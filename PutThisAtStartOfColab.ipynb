{
  "nbformat": 4,
  "nbformat_minor": 0,
  "metadata": {
    "colab": {
      "name": "Untitled1.ipynb",
      "provenance": [],
      "authorship_tag": "ABX9TyNe/1vOjmesVaYharHw8c06",
      "include_colab_link": true
    },
    "kernelspec": {
      "name": "python3",
      "display_name": "Python 3"
    }
  },
  "cells": [
    {
      "cell_type": "markdown",
      "metadata": {
        "id": "view-in-github",
        "colab_type": "text"
      },
      "source": [
        "<a href=\"https://colab.research.google.com/github/robinvvinod/spaceapps/blob/master/PutThisAtStartOfColab.ipynb\" target=\"_parent\"><img src=\"https://colab.research.google.com/assets/colab-badge.svg\" alt=\"Open In Colab\"/></a>"
      ]
    },
    {
      "cell_type": "code",
      "metadata": {
        "id": "NM5PbOfeafdd",
        "colab_type": "code",
        "colab": {}
      },
      "source": [
        "!rm -rf spaceapps\n",
        "!git clone https://github.com/robinvvinod/spaceapps.git\n",
        "#put this on top of any analysis to automatically download latest repo into 'spaceapps/' directory. You must then put 'spaceapps/' into directory structure eg 'spaceapps/county_fips_codes.csv'"
      ],
      "execution_count": 0,
      "outputs": []
    }
  ]
}