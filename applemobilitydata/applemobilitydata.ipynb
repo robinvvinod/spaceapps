{
 "cells": [
  {
   "cell_type": "code",
   "execution_count": 2,
   "metadata": {},
   "outputs": [],
   "source": [
    "import pandas as pd"
   ]
  },
  {
   "cell_type": "code",
   "execution_count": 3,
   "metadata": {},
   "outputs": [],
   "source": [
    "df = pd.read_csv('applemobilitytrends-2020-05-27.csv')"
   ]
  },
  {
   "cell_type": "code",
   "execution_count": 4,
   "metadata": {},
   "outputs": [],
   "source": [
    "# Extracting US cities mobility data, data starts since 13-01-2020\n",
    "df = df[df['geo_type'] == 'city']\n",
    "df = df[df['country'] == 'United States']"
   ]
  },
  {
   "cell_type": "code",
   "execution_count": 12,
   "metadata": {},
   "outputs": [],
   "source": [
    "# Combining stats for driving, transit, walking\n",
    "cleanedDf  = df.iloc[0:0]\n",
    "lastRegion = \"\"\n",
    "\n",
    "for region in df['region']:\n",
    "    if region != lastRegion:\n",
    "        regionPD = df[df['region'] == region]\n",
    "        subRegion = regionPD['sub-region'].values[0]\n",
    "        regionPD = regionPD.groupby(regionPD['region']).sum() / regionPD.shape[0]\n",
    "        regionPD['region'] = region\n",
    "        regionPD['sub-region'] = subRegion\n",
    "        cleanedDf = cleanedDf.append(regionPD)\n",
    "    lastRegion = region"
   ]
  },
  {
   "cell_type": "code",
   "execution_count": 13,
   "metadata": {},
   "outputs": [],
   "source": [
    "cleanedDf = cleanedDf.drop(['geo_type', 'transportation_type', 'alternative_name','country'], axis=1)"
   ]
  },
  {
   "cell_type": "code",
   "execution_count": 14,
   "metadata": {},
   "outputs": [],
   "source": [
    "cleanedDf.to_csv('applemobilityCleaned.csv')"
   ]
  },
  {
   "cell_type": "code",
   "execution_count": null,
   "metadata": {},
   "outputs": [],
   "source": []
  }
 ],
 "metadata": {
  "kernelspec": {
   "display_name": "Python 3",
   "language": "python",
   "name": "python3"
  },
  "language_info": {
   "codemirror_mode": {
    "name": "ipython",
    "version": 3
   },
   "file_extension": ".py",
   "mimetype": "text/x-python",
   "name": "python",
   "nbconvert_exporter": "python",
   "pygments_lexer": "ipython3",
   "version": "3.7.7"
  }
 },
 "nbformat": 4,
 "nbformat_minor": 4
}
