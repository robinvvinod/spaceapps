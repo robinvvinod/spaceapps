{
 "cells": [
  {
   "cell_type": "code",
   "execution_count": 288,
   "metadata": {},
   "outputs": [],
   "source": [
    "from delphi_epidata import Epidata\n",
    "import pandas as pd"
   ]
  },
  {
   "cell_type": "code",
   "execution_count": 289,
   "metadata": {},
   "outputs": [],
   "source": [
    "df = pd.DataFrame()"
   ]
  },
  {
   "cell_type": "code",
   "execution_count": 290,
   "metadata": {},
   "outputs": [
    {
     "name": "stdout",
     "output_type": "stream",
     "text": [
      "1 success 2928\n"
     ]
    }
   ],
   "source": [
    "# Data has to be acquired in batches since there is a lenght limit in the API\n",
    "\n",
    "# 8/04/2020 - 20/04/2020\n",
    "res = Epidata.covidcast('fb-survey', 'raw_wcli', 'day', 'county', [Epidata.range(20200408, 20200420)], geo_value='*')\n",
    "print(res['result'], res['message'], len(res['epidata']))\n",
    "df = df.append(res['epidata'])"
   ]
  },
  {
   "cell_type": "code",
   "execution_count": 291,
   "metadata": {},
   "outputs": [
    {
     "name": "stdout",
     "output_type": "stream",
     "text": [
      "1 success 3430\n"
     ]
    }
   ],
   "source": [
    "# 21/04/2020 - 5/05/2020\n",
    "res = Epidata.covidcast('fb-survey', 'raw_wcli', 'day', 'county', [Epidata.range(20200421, 20200505)], geo_value='*')\n",
    "print(res['result'], res['message'], len(res['epidata']))\n",
    "df = df.append(res['epidata'])"
   ]
  },
  {
   "cell_type": "code",
   "execution_count": 292,
   "metadata": {},
   "outputs": [
    {
     "name": "stdout",
     "output_type": "stream",
     "text": [
      "1 success 3232\n"
     ]
    }
   ],
   "source": [
    "# 6/05/2020 - 20/05/2020\n",
    "res = Epidata.covidcast('fb-survey', 'raw_wcli', 'day', 'county', [Epidata.range(20200506, 20200520)], geo_value='*')\n",
    "print(res['result'], res['message'], len(res['epidata']))\n",
    "df = df.append(res['epidata'])"
   ]
  },
  {
   "cell_type": "code",
   "execution_count": 293,
   "metadata": {},
   "outputs": [
    {
     "name": "stdout",
     "output_type": "stream",
     "text": [
      "1 success 1867\n"
     ]
    }
   ],
   "source": [
    "# 21/05/2020 - 27/05/2020\n",
    "res = Epidata.covidcast('fb-survey', 'raw_wcli', 'day', 'county', [Epidata.range(20200521, 20200527)], geo_value='*')\n",
    "print(res['result'], res['message'], len(res['epidata']))\n",
    "df = df.append(res['epidata'])"
   ]
  },
  {
   "cell_type": "code",
   "execution_count": 294,
   "metadata": {},
   "outputs": [],
   "source": [
    "counties = []\n",
    "for county in df['geo_value']:\n",
    "    counties.append(county)\n",
    "counties = list(set(counties))\n",
    "cleanedDf = pd.DataFrame(dtype=str)"
   ]
  },
  {
   "cell_type": "code",
   "execution_count": 295,
   "metadata": {},
   "outputs": [],
   "source": [
    "for county in counties:\n",
    "    countyData = df[df['geo_value'] == county]\n",
    "    countyData = countyData.reset_index()\n",
    "    countyData = countyData.drop(['index'], axis=1)\n",
    "    \n",
    "    # Time series is in rows unlike applemobility data, converting to columns instead\n",
    "    temp = pd.DataFrame(columns=['geo_value', *countyData['time_value']])\n",
    "    \n",
    "    # Renaming columns to match applemobility data\n",
    "    columns = [\"geo_value\"]\n",
    "    for i,column in enumerate(temp.columns):\n",
    "        if i == 0:\n",
    "            continue\n",
    "        column = list(str(column))\n",
    "        column.insert(4, '-')\n",
    "        column.insert(7, '-')\n",
    "        columns.append(''.join(column))\n",
    "    temp.columns = columns\n",
    "    \n",
    "    values = []\n",
    "    for i,column in enumerate(columns):\n",
    "        if i == 0:\n",
    "            values.append(str(countyData['geo_value'].values[0]))\n",
    "            continue\n",
    "        else:\n",
    "            columnAdj = int(column.replace('-', ''))\n",
    "            value = countyData[countyData['time_value'] == columnAdj].values[0][3]\n",
    "            values.append(value)\n",
    "    \n",
    "    temp = temp.append(pd.Series(values, index=temp.columns), ignore_index=True)\n",
    "    cleanedDf = cleanedDf.append(temp, ignore_index=True)"
   ]
  },
  {
   "cell_type": "code",
   "execution_count": 296,
   "metadata": {},
   "outputs": [],
   "source": [
    "cleanedDf = cleanedDf.reindex(sorted(cleanedDf.columns), axis=1)\n",
    "cleanedDf = cleanedDf.fillna(0)\n",
    "firstCol = cleanedDf.pop('geo_value')\n",
    "cleanedDf.insert(0, 'geo_value', firstCol)"
   ]
  },
  {
   "cell_type": "code",
   "execution_count": 298,
   "metadata": {},
   "outputs": [],
   "source": [
    "cleanedDf.to_csv('covidsymptoms_fb.csv')"
   ]
  },
  {
   "cell_type": "code",
   "execution_count": null,
   "metadata": {},
   "outputs": [],
   "source": []
  }
 ],
 "metadata": {
  "kernelspec": {
   "display_name": "Python 3",
   "language": "python",
   "name": "python3"
  },
  "language_info": {
   "codemirror_mode": {
    "name": "ipython",
    "version": 3
   },
   "file_extension": ".py",
   "mimetype": "text/x-python",
   "name": "python",
   "nbconvert_exporter": "python",
   "pygments_lexer": "ipython3",
   "version": "3.7.7"
  }
 },
 "nbformat": 4,
 "nbformat_minor": 4
}
