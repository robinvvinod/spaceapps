{
 "cells": [
  {
   "cell_type": "code",
   "execution_count": 1,
   "metadata": {},
   "outputs": [],
   "source": [
    "import pandas as pd"
   ]
  },
  {
   "cell_type": "code",
   "execution_count": null,
   "metadata": {},
   "outputs": [],
   "source": [
    "# Cities"
   ]
  },
  {
   "cell_type": "code",
   "execution_count": 2,
   "metadata": {},
   "outputs": [],
   "source": [
    "df = pd.read_csv('applemobilitytrends-2020-05-27.csv')"
   ]
  },
  {
   "cell_type": "code",
   "execution_count": 3,
   "metadata": {},
   "outputs": [],
   "source": [
    "# Extracting US cities mobility data, data starts since 13-01-2020\n",
    "df = df[df['geo_type'] == 'city']\n",
    "df = df[df['country'] == 'United States']"
   ]
  },
  {
   "cell_type": "code",
   "execution_count": 4,
   "metadata": {},
   "outputs": [],
   "source": [
    "# Combining stats for driving, transit, walking\n",
    "cleanedDf  = df.iloc[0:0]\n",
    "lastRegion = \"\"\n",
    "\n",
    "for region in df['region']:\n",
    "    if region != lastRegion:\n",
    "        regionPD = df[df['region'] == region]\n",
    "        subRegion = regionPD['sub-region'].values[0]\n",
    "        regionPD = regionPD.groupby(regionPD['region']).sum() / regionPD.shape[0]\n",
    "        regionPD['region'] = region\n",
    "        regionPD['sub-region'] = subRegion\n",
    "        cleanedDf = cleanedDf.append(regionPD)\n",
    "    lastRegion = region"
   ]
  },
  {
   "cell_type": "code",
   "execution_count": 5,
   "metadata": {},
   "outputs": [],
   "source": [
    "cleanedDf = cleanedDf.reset_index()\n",
    "cleanedDf = cleanedDf.drop(['index','geo_type', 'transportation_type', 'alternative_name','country'], axis=1)"
   ]
  },
  {
   "cell_type": "code",
   "execution_count": 63,
   "metadata": {},
   "outputs": [],
   "source": [
    "cleanedDf.to_csv('applemobilitycleaned_cities.csv')"
   ]
  },
  {
   "cell_type": "code",
   "execution_count": null,
   "metadata": {},
   "outputs": [],
   "source": [
    "# Counties"
   ]
  },
  {
   "cell_type": "code",
   "execution_count": 43,
   "metadata": {},
   "outputs": [],
   "source": [
    "df = pd.read_csv('applemobilitytrends-2020-05-27.csv')"
   ]
  },
  {
   "cell_type": "code",
   "execution_count": 44,
   "metadata": {},
   "outputs": [],
   "source": [
    "# Extracting US counties mobility data, data starts since 13-01-2020\n",
    "df = df[df['geo_type'] == 'county']\n",
    "df = df[df['country'] == 'United States']"
   ]
  },
  {
   "cell_type": "code",
   "execution_count": 45,
   "metadata": {},
   "outputs": [],
   "source": [
    "# Combining stats for driving, transit, walking\n",
    "cleanedDf  = df.iloc[0:0]\n",
    "lastRegion = \"\"\n",
    "\n",
    "for region in df['region']:\n",
    "    if region != lastRegion:\n",
    "        regionPD = df[df['region'] == region]\n",
    "        subRegion = regionPD['sub-region'].values[0]\n",
    "        regionPD = regionPD.groupby(regionPD['region']).sum() / regionPD.shape[0]\n",
    "        regionPD['region'] = region\n",
    "        regionPD['sub-region'] = subRegion\n",
    "        cleanedDf = cleanedDf.append(regionPD)\n",
    "    lastRegion = region"
   ]
  },
  {
   "cell_type": "code",
   "execution_count": 46,
   "metadata": {},
   "outputs": [],
   "source": [
    "cleanedDf = cleanedDf.reset_index()\n",
    "cleanedDf = cleanedDf.drop(['index','geo_type', 'transportation_type', 'alternative_name','country'], axis=1)"
   ]
  },
  {
   "cell_type": "code",
   "execution_count": 47,
   "metadata": {},
   "outputs": [],
   "source": [
    "countyDf = pd.read_csv('../county_fips_codes.csv')"
   ]
  },
  {
   "cell_type": "code",
   "execution_count": 48,
   "metadata": {},
   "outputs": [],
   "source": [
    "fipscodes = []\n",
    "counties = cleanedDf['region']\n",
    "for county in counties:\n",
    "    fips = countyDf.loc[countyDf['county_name'] == county, 'fips']\n",
    "    try:\n",
    "        fipscodes.append(fips.values[0])\n",
    "    except:\n",
    "        fipscodes.append('NaN')\n",
    "cleanedDf['fips'] = fipscodes"
   ]
  },
  {
   "cell_type": "code",
   "execution_count": 49,
   "metadata": {},
   "outputs": [],
   "source": [
    "firstCol = cleanedDf.pop('fips')\n",
    "cleanedDf.insert(0, 'fips', firstCol)"
   ]
  },
  {
   "cell_type": "code",
   "execution_count": 50,
   "metadata": {},
   "outputs": [],
   "source": [
    "cleanedDf.to_csv('applemobilitycleaned_county.csv')"
   ]
  },
  {
   "cell_type": "code",
   "execution_count": null,
   "metadata": {},
   "outputs": [],
   "source": []
  }
 ],
 "metadata": {
  "kernelspec": {
   "display_name": "Python 3",
   "language": "python",
   "name": "python3"
  },
  "language_info": {
   "codemirror_mode": {
    "name": "ipython",
    "version": 3
   },
   "file_extension": ".py",
   "mimetype": "text/x-python",
   "name": "python",
   "nbconvert_exporter": "python",
   "pygments_lexer": "ipython3",
   "version": "3.7.7"
  }
 },
 "nbformat": 4,
 "nbformat_minor": 4
}
