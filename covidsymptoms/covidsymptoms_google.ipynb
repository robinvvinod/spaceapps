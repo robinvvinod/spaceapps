{
 "cells": [
  {
   "cell_type": "code",
   "execution_count": 1,
   "metadata": {},
   "outputs": [],
   "source": [
    "from delphi_epidata import Epidata\n",
    "import pandas as pd"
   ]
  },
  {
   "cell_type": "code",
   "execution_count": 2,
   "metadata": {},
   "outputs": [],
   "source": [
    "df = pd.DataFrame()"
   ]
  },
  {
   "cell_type": "code",
   "execution_count": 3,
   "metadata": {},
   "outputs": [
    {
     "name": "stdout",
     "output_type": "stream",
     "text": [
      "1 success 3235\n"
     ]
    }
   ],
   "source": [
    "# Data has to be acquired in batches since there is a length limit in the API\n",
    "\n",
    "# 8/04/2020 - 15/04/2020\n",
    "res = Epidata.covidcast('google-survey', 'smoothed_cli', 'day', 'county', [Epidata.range(20200408, 20200415)], geo_value='*')\n",
    "print(res['result'], res['message'], len(res['epidata']))\n",
    "df = df.append(res['epidata'])"
   ]
  },
  {
   "cell_type": "code",
   "execution_count": 4,
   "metadata": {},
   "outputs": [
    {
     "name": "stdout",
     "output_type": "stream",
     "text": [
      "1 success 2588\n"
     ]
    }
   ],
   "source": [
    "# 16/04/2020 - 19/04/2020\n",
    "res = Epidata.covidcast('google-survey', 'smoothed_cli', 'day', 'county', [Epidata.range(20200416, 20200419)], geo_value='*')\n",
    "print(res['result'], res['message'], len(res['epidata']))\n",
    "df = df.append(res['epidata'])"
   ]
  },
  {
   "cell_type": "code",
   "execution_count": 5,
   "metadata": {},
   "outputs": [
    {
     "name": "stdout",
     "output_type": "stream",
     "text": [
      "1 success 3235\n"
     ]
    }
   ],
   "source": [
    "# 20/04/2020 - 24/04/2020\n",
    "res = Epidata.covidcast('google-survey', 'smoothed_cli', 'day', 'county', [Epidata.range(20200420, 20200424)], geo_value='*')\n",
    "print(res['result'], res['message'], len(res['epidata']))\n",
    "df = df.append(res['epidata'])"
   ]
  },
  {
   "cell_type": "code",
   "execution_count": 6,
   "metadata": {},
   "outputs": [
    {
     "name": "stdout",
     "output_type": "stream",
     "text": [
      "1 success 3186\n"
     ]
    }
   ],
   "source": [
    "# 25/04/2020 - 29/04/2020\n",
    "res = Epidata.covidcast('google-survey', 'smoothed_cli', 'day', 'county', [Epidata.range(20200425, 20200429)], geo_value='*')\n",
    "print(res['result'], res['message'], len(res['epidata']))\n",
    "df = df.append(res['epidata'])"
   ]
  },
  {
   "cell_type": "code",
   "execution_count": 7,
   "metadata": {},
   "outputs": [
    {
     "name": "stdout",
     "output_type": "stream",
     "text": [
      "1 success 2584\n"
     ]
    }
   ],
   "source": [
    "# 30/04/2020 - 03/05/2020\n",
    "res = Epidata.covidcast('google-survey', 'smoothed_cli', 'day', 'county', [Epidata.range(20200430, 20200503)], geo_value='*')\n",
    "print(res['result'], res['message'], len(res['epidata']))\n",
    "df = df.append(res['epidata'])"
   ]
  },
  {
   "cell_type": "code",
   "execution_count": 8,
   "metadata": {},
   "outputs": [
    {
     "name": "stdout",
     "output_type": "stream",
     "text": [
      "1 success 2588\n"
     ]
    }
   ],
   "source": [
    "# 04/05/2020 - 07/05/2020\n",
    "res = Epidata.covidcast('google-survey', 'smoothed_cli', 'day', 'county', [Epidata.range(20200504, 20200507)], geo_value='*')\n",
    "print(res['result'], res['message'], len(res['epidata']))\n",
    "df = df.append(res['epidata'])"
   ]
  },
  {
   "cell_type": "code",
   "execution_count": 9,
   "metadata": {},
   "outputs": [
    {
     "name": "stdout",
     "output_type": "stream",
     "text": [
      "1 success 3235\n"
     ]
    }
   ],
   "source": [
    "# 08/05/2020 - 12/05/2020\n",
    "res = Epidata.covidcast('google-survey', 'smoothed_cli', 'day', 'county', [Epidata.range(20200508, 20200512)], geo_value='*')\n",
    "print(res['result'], res['message'], len(res['epidata']))\n",
    "df = df.append(res['epidata'])"
   ]
  },
  {
   "cell_type": "code",
   "execution_count": 10,
   "metadata": {},
   "outputs": [
    {
     "name": "stdout",
     "output_type": "stream",
     "text": [
      "1 success 1005\n"
     ]
    }
   ],
   "source": [
    "# 13/05/2020 - 17/05/2020\n",
    "res = Epidata.covidcast('google-survey', 'smoothed_cli', 'day', 'county', [Epidata.range(20200513, 20200517)], geo_value='*')\n",
    "print(res['result'], res['message'], len(res['epidata']))\n",
    "df = df.append(res['epidata'])"
   ]
  },
  {
   "cell_type": "code",
   "execution_count": 11,
   "metadata": {},
   "outputs": [],
   "source": [
    "counties = []\n",
    "for county in df['geo_value']:\n",
    "    counties.append(county)\n",
    "counties = list(set(counties))\n",
    "cleanedDf = pd.DataFrame(dtype=str)"
   ]
  },
  {
   "cell_type": "code",
   "execution_count": 12,
   "metadata": {},
   "outputs": [],
   "source": [
    "for county in counties:\n",
    "    countyData = df[df['geo_value'] == county]\n",
    "    countyData = countyData.reset_index()\n",
    "    countyData = countyData.drop(['index'], axis=1)\n",
    "    \n",
    "    # Time series is in rows unlike applemobility data, converting to columns instead\n",
    "    temp = pd.DataFrame(columns=['geo_value', *countyData['time_value']])\n",
    "    \n",
    "    # Renaming columns to match applemobility data\n",
    "    columns = [\"geo_value\"]\n",
    "    for i,column in enumerate(temp.columns):\n",
    "        if i == 0:\n",
    "            continue\n",
    "        column = list(str(column))\n",
    "        column.insert(4, '-')\n",
    "        column.insert(7, '-')\n",
    "        columns.append(''.join(column))\n",
    "    temp.columns = columns\n",
    "    \n",
    "    values = []\n",
    "    for i,column in enumerate(columns):\n",
    "        if i == 0:\n",
    "            values.append(str(countyData['geo_value'].values[0]))\n",
    "            continue\n",
    "        else:\n",
    "            columnAdj = int(column.replace('-', ''))\n",
    "            value = countyData[countyData['time_value'] == columnAdj].values[0][3]\n",
    "            values.append(value)\n",
    "    \n",
    "    temp = temp.append(pd.Series(values, index=temp.columns), ignore_index=True)\n",
    "    cleanedDf = cleanedDf.append(temp, ignore_index=True)"
   ]
  },
  {
   "cell_type": "code",
   "execution_count": 13,
   "metadata": {},
   "outputs": [],
   "source": [
    "cleanedDf = cleanedDf.reindex(sorted(cleanedDf.columns), axis=1)\n",
    "cleanedDf = cleanedDf.fillna(0)\n",
    "firstCol = cleanedDf.pop('geo_value')\n",
    "cleanedDf.insert(0, 'geo_value', firstCol)"
   ]
  },
  {
   "cell_type": "code",
   "execution_count": 14,
   "metadata": {},
   "outputs": [],
   "source": [
    "cleanedDf.to_csv('covidsymptoms_google.csv')"
   ]
  },
  {
   "cell_type": "code",
   "execution_count": null,
   "metadata": {},
   "outputs": [],
   "source": []
  }
 ],
 "metadata": {
  "kernelspec": {
   "display_name": "Python 3",
   "language": "python",
   "name": "python3"
  },
  "language_info": {
   "codemirror_mode": {
    "name": "ipython",
    "version": 3
   },
   "file_extension": ".py",
   "mimetype": "text/x-python",
   "name": "python",
   "nbconvert_exporter": "python",
   "pygments_lexer": "ipython3",
   "version": "3.7.7"
  }
 },
 "nbformat": 4,
 "nbformat_minor": 4
}
