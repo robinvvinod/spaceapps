{
 "cells": [
  {
   "cell_type": "code",
   "execution_count": 1,
   "metadata": {},
   "outputs": [],
   "source": [
    "import pandas as pd\n",
    "from datetime import datetime"
   ]
  },
  {
   "cell_type": "code",
   "execution_count": 2,
   "metadata": {},
   "outputs": [],
   "source": [
    "df = pd.read_csv('raw/raw_confirmed_cases.csv')"
   ]
  },
  {
   "cell_type": "code",
   "execution_count": 3,
   "metadata": {},
   "outputs": [],
   "source": [
    "df = df.drop(['UID','iso2', 'iso3', 'code3','Admin2','Province_State','Country_Region','Lat','Long_', 'Combined_Key'], axis=1)"
   ]
  },
  {
   "cell_type": "code",
   "execution_count": 4,
   "metadata": {},
   "outputs": [],
   "source": [
    "columns = []\n",
    "for i,date in enumerate(df.columns):\n",
    "    if i == 0:\n",
    "        continue\n",
    "        \n",
    "    datetime_object = datetime.strptime(date, '%m/%d/%y')\n",
    "    date = datetime_object.strftime(\"%Y-%m-%d\")\n",
    "    columns.append(date)\n",
    "columns.insert(0,'fips')\n",
    "\n",
    "df.columns = columns"
   ]
  },
  {
   "cell_type": "code",
   "execution_count": 5,
   "metadata": {},
   "outputs": [],
   "source": [
    "df.to_csv('confirmed_cases_county_cumulative.csv')"
   ]
  },
  {
   "cell_type": "code",
   "execution_count": 6,
   "metadata": {},
   "outputs": [
    {
     "name": "stderr",
     "output_type": "stream",
     "text": [
      "/usr/local/Caskroom/miniconda/base/envs/tf/lib/python3.7/site-packages/ipykernel_launcher.py:16: SettingWithCopyWarning: \n",
      "A value is trying to be set on a copy of a slice from a DataFrame.\n",
      "Try using .loc[row_indexer,col_indexer] = value instead\n",
      "\n",
      "See the caveats in the documentation: https://pandas.pydata.org/pandas-docs/stable/user_guide/indexing.html#returning-a-view-versus-a-copy\n",
      "  app.launch_new_instance()\n"
     ]
    }
   ],
   "source": [
    "fips = df['fips']\n",
    "cleanedDf = pd.DataFrame(dtype=str)\n",
    "\n",
    "for fip in fips:\n",
    "    row = df.loc[df['fips'] == float(fip)]\n",
    "    newValue = 0\n",
    "    for i,column in enumerate(row.columns):\n",
    "        if i == 0:\n",
    "            continue\n",
    "        value = row.iloc[:,i].values[0]\n",
    "        prev = row.iloc[:,i-1].values[0]\n",
    "        if i == 1:\n",
    "            prev = 0\n",
    "            \n",
    "        newValue = value - prev            \n",
    "        row[column] = newValue\n",
    "        \n",
    "    cleanedDf = cleanedDf.append(row)"
   ]
  },
  {
   "cell_type": "code",
   "execution_count": 7,
   "metadata": {},
   "outputs": [],
   "source": [
    "cleanedDf = cleanedDf[cleanedDf >= 0]\n",
    "cleanedDf.interpolate(axis=1)\n",
    "cleanedDf.to_csv('confirmed_cases_county.csv')"
   ]
  },
  {
   "cell_type": "code",
   "execution_count": 17,
   "metadata": {},
   "outputs": [],
   "source": [
    "# Deaths"
   ]
  },
  {
   "cell_type": "code",
   "execution_count": 18,
   "metadata": {},
   "outputs": [],
   "source": [
    "df = pd.read_csv('raw/raw_deaths.csv')\n",
    "df = df.drop(['UID','iso2', 'iso3', 'code3','Admin2','Province_State','Country_Region','Lat','Long_', 'Combined_Key', 'Population'], axis=1)"
   ]
  },
  {
   "cell_type": "code",
   "execution_count": 19,
   "metadata": {},
   "outputs": [],
   "source": [
    "columns = []\n",
    "for i,date in enumerate(df.columns):\n",
    "    if i == 0:\n",
    "        continue\n",
    "        \n",
    "    datetime_object = datetime.strptime(date, '%m/%d/%y')\n",
    "    date = datetime_object.strftime(\"%Y-%m-%d\")\n",
    "    columns.append(date)\n",
    "columns.insert(0,'fips')\n",
    "\n",
    "df.columns = columns"
   ]
  },
  {
   "cell_type": "code",
   "execution_count": 20,
   "metadata": {},
   "outputs": [],
   "source": [
    "df.to_csv('deaths_county_cumulative.csv')"
   ]
  },
  {
   "cell_type": "code",
   "execution_count": 21,
   "metadata": {},
   "outputs": [
    {
     "name": "stderr",
     "output_type": "stream",
     "text": [
      "/usr/local/Caskroom/miniconda/base/envs/tf/lib/python3.7/site-packages/ipykernel_launcher.py:16: SettingWithCopyWarning: \n",
      "A value is trying to be set on a copy of a slice from a DataFrame.\n",
      "Try using .loc[row_indexer,col_indexer] = value instead\n",
      "\n",
      "See the caveats in the documentation: https://pandas.pydata.org/pandas-docs/stable/user_guide/indexing.html#returning-a-view-versus-a-copy\n",
      "  app.launch_new_instance()\n"
     ]
    }
   ],
   "source": [
    "fips = df['fips']\n",
    "cleanedDf = pd.DataFrame(dtype=str)\n",
    "\n",
    "for fip in fips:\n",
    "    row = df.loc[df['fips'] == float(fip)]\n",
    "    newValue = 0\n",
    "    for i,column in enumerate(row.columns):\n",
    "        if i == 0:\n",
    "            continue\n",
    "        value = row.iloc[:,i].values[0]\n",
    "        prev = row.iloc[:,i-1].values[0]\n",
    "        if i == 1:\n",
    "            prev = 0\n",
    "            \n",
    "        newValue = value - prev            \n",
    "        row[column] = newValue\n",
    "        \n",
    "    cleanedDf = cleanedDf.append(row)"
   ]
  },
  {
   "cell_type": "code",
   "execution_count": 22,
   "metadata": {},
   "outputs": [],
   "source": [
    "cleanedDf = cleanedDf[cleanedDf >= 0]\n",
    "cleanedDf.interpolate(axis=1)\n",
    "cleanedDf.to_csv('deaths_county.csv')"
   ]
  },
  {
   "cell_type": "code",
   "execution_count": null,
   "metadata": {},
   "outputs": [],
   "source": []
  }
 ],
 "metadata": {
  "kernelspec": {
   "display_name": "Python 3",
   "language": "python",
   "name": "python3"
  },
  "language_info": {
   "codemirror_mode": {
    "name": "ipython",
    "version": 3
   },
   "file_extension": ".py",
   "mimetype": "text/x-python",
   "name": "python",
   "nbconvert_exporter": "python",
   "pygments_lexer": "ipython3",
   "version": "3.7.7"
  }
 },
 "nbformat": 4,
 "nbformat_minor": 4
}
