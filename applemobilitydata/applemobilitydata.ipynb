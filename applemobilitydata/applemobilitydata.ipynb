{
 "cells": [
  {
   "cell_type": "code",
   "execution_count": 58,
   "metadata": {},
   "outputs": [],
   "source": [
    "import pandas as pd"
   ]
  },
  {
   "cell_type": "code",
   "execution_count": 59,
   "metadata": {},
   "outputs": [],
   "source": [
    "df = pd.read_csv('applemobilitytrends-2020-05-27.csv')"
   ]
  },
  {
   "cell_type": "code",
   "execution_count": 60,
   "metadata": {},
   "outputs": [],
   "source": [
    "# Extracting US cities mobility data, data starts since 13-01-2020\n",
    "df = df[df['geo_type'] == 'city']\n",
    "df = df[df['country'] == 'United States']"
   ]
  },
  {
   "cell_type": "code",
   "execution_count": 61,
   "metadata": {},
   "outputs": [],
   "source": [
    "# Combining stats for driving, transit, walking\n",
    "cleanedDf  = df.iloc[0:0]\n",
    "lastRegion = \"\"\n",
    "\n",
    "for region in df['region']:\n",
    "    if region != lastRegion:\n",
    "        regionPD = df[df['region'] == region]\n",
    "        subRegion = regionPD['sub-region'].values[0]\n",
    "        regionPD = regionPD.groupby(regionPD['region']).sum() / regionPD.shape[0]\n",
    "        regionPD['region'] = region\n",
    "        regionPD['sub-region'] = subRegion\n",
    "        cleanedDf = cleanedDf.append(regionPD)\n",
    "    lastRegion = region"
   ]
  },
  {
   "cell_type": "code",
   "execution_count": 62,
   "metadata": {},
   "outputs": [],
   "source": [
    "cleanedDf = cleanedDf.reset_index()\n",
    "cleanedDf = cleanedDf.drop(['index','geo_type', 'transportation_type', 'alternative_name','country'], axis=1)"
   ]
  },
  {
   "cell_type": "code",
   "execution_count": 63,
   "metadata": {},
   "outputs": [],
   "source": [
    "cleanedDf.to_csv('applemobilitycleaned_cities.csv')"
   ]
  },
  {
   "cell_type": "code",
   "execution_count": null,
   "metadata": {},
   "outputs": [],
   "source": []
  },
  {
   "cell_type": "code",
   "execution_count": 64,
   "metadata": {},
   "outputs": [],
   "source": [
    "df = pd.read_csv('applemobilitytrends-2020-05-27.csv')"
   ]
  },
  {
   "cell_type": "code",
   "execution_count": 65,
   "metadata": {},
   "outputs": [],
   "source": [
    "# Extracting US counties mobility data, data starts since 13-01-2020\n",
    "df = df[df['geo_type'] == 'county']\n",
    "df = df[df['country'] == 'United States']"
   ]
  },
  {
   "cell_type": "code",
   "execution_count": 66,
   "metadata": {},
   "outputs": [],
   "source": [
    "# Combining stats for driving, transit, walking\n",
    "cleanedDf  = df.iloc[0:0]\n",
    "lastRegion = \"\"\n",
    "\n",
    "for region in df['region']:\n",
    "    if region != lastRegion:\n",
    "        regionPD = df[df['region'] == region]\n",
    "        subRegion = regionPD['sub-region'].values[0]\n",
    "        regionPD = regionPD.groupby(regionPD['region']).sum() / regionPD.shape[0]\n",
    "        regionPD['region'] = region\n",
    "        regionPD['sub-region'] = subRegion\n",
    "        cleanedDf = cleanedDf.append(regionPD)\n",
    "    lastRegion = region"
   ]
  },
  {
   "cell_type": "code",
   "execution_count": 67,
   "metadata": {},
   "outputs": [],
   "source": [
    "cleanedDf = cleanedDf.reset_index()\n",
    "cleanedDf = cleanedDf.drop(['index','geo_type', 'transportation_type', 'alternative_name','country'], axis=1)"
   ]
  },
  {
   "cell_type": "code",
   "execution_count": 68,
   "metadata": {},
   "outputs": [],
   "source": [
    "cleanedDf.to_csv('applemobilitycleaned_county.csv')"
   ]
  },
  {
   "cell_type": "code",
   "execution_count": null,
   "metadata": {},
   "outputs": [],
   "source": []
  }
 ],
 "metadata": {
  "kernelspec": {
   "display_name": "Python 3",
   "language": "python",
   "name": "python3"
  },
  "language_info": {
   "codemirror_mode": {
    "name": "ipython",
    "version": 3
   },
   "file_extension": ".py",
   "mimetype": "text/x-python",
   "name": "python",
   "nbconvert_exporter": "python",
   "pygments_lexer": "ipython3",
   "version": "3.7.7"
  }
 },
 "nbformat": 4,
 "nbformat_minor": 4
}
