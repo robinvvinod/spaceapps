{
 "cells": [
  {
   "cell_type": "code",
   "execution_count": 18,
   "metadata": {},
   "outputs": [],
   "source": [
    "from delphi_epidata import Epidata\n",
    "import pandas as pd"
   ]
  },
  {
   "cell_type": "code",
   "execution_count": 19,
   "metadata": {},
   "outputs": [],
   "source": [
    "# Data has to be acquired in batches since there is a length limit in the API. Acquiring in batches of 3 days\n",
    "\n",
    "def retrieveData(month,start,end,df):\n",
    "    if month < 10:\n",
    "        month = f'0{month}'\n",
    "    else:\n",
    "        month = str(month)\n",
    "    if start < 10:\n",
    "        start = f'0{start}'\n",
    "    else:\n",
    "        start = str(start)\n",
    "    if end < 10:\n",
    "        end = f'0{end}'\n",
    "    else:\n",
    "        end = str(end)\n",
    "        \n",
    "    for i in range(int(start),int(end)+1,3):\n",
    "        if i+1 < 10:\n",
    "            if i == int(start):\n",
    "                startdate = f'0{i}'\n",
    "            else:\n",
    "                startdate = f'0{i+1}'\n",
    "        else:\n",
    "            if i == int(start):\n",
    "                startdate = i\n",
    "            else:\n",
    "                startdate = i+1\n",
    "                \n",
    "        enddate = i+3\n",
    "        if i + 3 < 10:\n",
    "            enddate = f'0{enddate}'\n",
    "        \n",
    "        if int(enddate) > int(end):\n",
    "            enddate = int(end)\n",
    "            \n",
    "        startdate = str(startdate)\n",
    "        enddate = str(enddate)\n",
    "        \n",
    "        if int(startdate) == int(enddate)+1:\n",
    "            break\n",
    "        \n",
    "        res = Epidata.covidcast('doctor-visits', 'smoothed_cli', 'day', 'state', [Epidata.range(int(f'2020{month}{startdate}'), int(f'2020{month}{enddate}'))], geo_value='*')\n",
    "        if res['result'] == 1:\n",
    "            df = df.append(res['epidata'])\n",
    "            print(f'retreival for {startdate} to {enddate} succeeded')\n",
    "        else:\n",
    "            print(f'Retreival for {startdate} to {enddate} failed')\n",
    "    \n",
    "    return df\n",
    "        "
   ]
  },
  {
   "cell_type": "code",
   "execution_count": 20,
   "metadata": {
    "scrolled": false
   },
   "outputs": [
    {
     "name": "stdout",
     "output_type": "stream",
     "text": [
      "retreival for 08 to 11 succeeded\n",
      "retreival for 12 to 14 succeeded\n",
      "retreival for 15 to 17 succeeded\n",
      "retreival for 18 to 20 succeeded\n",
      "retreival for 21 to 23 succeeded\n",
      "retreival for 24 to 26 succeeded\n",
      "retreival for 27 to 29 succeeded\n",
      "retreival for 30 to 30 succeeded\n",
      "retreival for 01 to 04 succeeded\n",
      "retreival for 05 to 07 succeeded\n",
      "retreival for 08 to 10 succeeded\n",
      "retreival for 11 to 13 succeeded\n",
      "retreival for 14 to 16 succeeded\n",
      "retreival for 17 to 19 succeeded\n",
      "retreival for 20 to 22 succeeded\n",
      "retreival for 23 to 25 succeeded\n",
      "Retreival for 26 to 28 failed\n"
     ]
    }
   ],
   "source": [
    "df = retrieveData(4,8,30, pd.DataFrame())\n",
    "df = retrieveData(5,1,28, df)"
   ]
  },
  {
   "cell_type": "code",
   "execution_count": 21,
   "metadata": {},
   "outputs": [],
   "source": [
    "counties = []\n",
    "for county in pd.read_csv('../county_fips_codes.csv')['fips']:\n",
    "    counties.append(county)\n",
    "counties = list(set(counties))\n",
    "cleanedDf = pd.DataFrame(dtype=str)"
   ]
  },
  {
   "cell_type": "code",
   "execution_count": 22,
   "metadata": {},
   "outputs": [],
   "source": [
    "for fips in counties:\n",
    "    info = pd.read_csv('../county_fips_codes.csv')\n",
    "    state_code = info[info['fips'] == fips].values[0][2].lower()\n",
    "    \n",
    "    \n",
    "    columns = df.loc[df['geo_value'] == state_code].values\n",
    "    dates = []\n",
    "    values = []\n",
    "    for column in columns:\n",
    "        date = column[1]\n",
    "        date = list(str(date))\n",
    "        date.insert(4, '-')\n",
    "        date.insert(7, '-')\n",
    "        date = ''.join(date)\n",
    "        dates.append(date)\n",
    "        values.append(column[3])\n",
    "        \n",
    "    values.insert(0,fips)\n",
    "    dates.insert(0,'fips')\n",
    "    \n",
    "    temp = pd.DataFrame()\n",
    "    temp = temp.append(pd.Series(values, index=dates), ignore_index=True)\n",
    "    cleanedDf = cleanedDf.append(temp)"
   ]
  },
  {
   "cell_type": "code",
   "execution_count": 23,
   "metadata": {},
   "outputs": [],
   "source": [
    "cleanedDf = cleanedDf.reindex(sorted(cleanedDf.columns), axis=1)\n",
    "cleanedDf = cleanedDf.fillna(0)\n",
    "firstCol = cleanedDf.pop('fips')\n",
    "cleanedDf.insert(0, 'fips', firstCol)"
   ]
  },
  {
   "cell_type": "code",
   "execution_count": 24,
   "metadata": {},
   "outputs": [],
   "source": [
    "cleanedDf.to_csv('doctorvisits.csv')"
   ]
  },
  {
   "cell_type": "code",
   "execution_count": null,
   "metadata": {},
   "outputs": [],
   "source": []
  }
 ],
 "metadata": {
  "kernelspec": {
   "display_name": "Python 3",
   "language": "python",
   "name": "python3"
  },
  "language_info": {
   "codemirror_mode": {
    "name": "ipython",
    "version": 3
   },
   "file_extension": ".py",
   "mimetype": "text/x-python",
   "name": "python",
   "nbconvert_exporter": "python",
   "pygments_lexer": "ipython3",
   "version": "3.7.7"
  }
 },
 "nbformat": 4,
 "nbformat_minor": 4
}
