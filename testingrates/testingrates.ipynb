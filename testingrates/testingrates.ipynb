{
 "cells": [
  {
   "cell_type": "code",
   "execution_count": 1,
   "metadata": {},
   "outputs": [],
   "source": [
    "import pandas as pd"
   ]
  },
  {
   "cell_type": "code",
   "execution_count": 2,
   "metadata": {},
   "outputs": [],
   "source": [
    "df = pd.read_csv('raw/daily.csv')\n",
    "df = df[['date','state','positive','negative']]"
   ]
  },
  {
   "cell_type": "code",
   "execution_count": 3,
   "metadata": {},
   "outputs": [],
   "source": [
    "states = []\n",
    "for state in df['state']:\n",
    "    states.append(state)\n",
    "states = list(set(states))\n",
    "cleanedDf = pd.DataFrame(dtype=str)"
   ]
  },
  {
   "cell_type": "code",
   "execution_count": 4,
   "metadata": {},
   "outputs": [],
   "source": [
    "for state in states:\n",
    "    stateDf = df[df['state'] == state]\n",
    "    \n",
    "    pop = pd.read_csv('../countydemographics/county_demographics.csv')\n",
    "    pop = pop[pop['state_code'] == state]\n",
    "    pop = pop['population'].sum()\n",
    "    \n",
    "    if pop != 0:\n",
    "        dates, pos, neg, rates = [], [], [], []\n",
    "        for row in stateDf.iterrows():\n",
    "            row = row[1]\n",
    "            date = row['date']\n",
    "            date = list(str(date))\n",
    "            date.insert(4, '-')\n",
    "            date.insert(7, '-')\n",
    "            date = ''.join(date)\n",
    "        \n",
    "            state = row['state']\n",
    "            positive = row['positive']\n",
    "            negative = row['negative']\n",
    "        \n",
    "            if (positive+negative) != 0:\n",
    "                positiveTr = positive / (positive + negative)\n",
    "            else:\n",
    "                positiveTr = 0.\n",
    "\n",
    "            positiveTrCapita = positiveTr / pop\n",
    "\n",
    "            dates.append(date)\n",
    "            pos.append(positive)\n",
    "            neg.append(negative)\n",
    "            rates.append(positiveTrCapita)\n",
    "        \n",
    "        temp = pd.DataFrame(columns=['state_code', *dates])\n",
    "        temp = temp.append(pd.Series(rates, index=dates), ignore_index=True)\n",
    "        temp['state_code'] = state\n",
    "    \n",
    "        cleanedDf = cleanedDf.append(temp)"
   ]
  },
  {
   "cell_type": "code",
   "execution_count": 5,
   "metadata": {},
   "outputs": [],
   "source": [
    "cleanedDf = cleanedDf.reindex(sorted(cleanedDf.columns), axis=1)\n",
    "firstCol = cleanedDf.pop('state_code')\n",
    "cleanedDf.insert(0, 'state_code', firstCol)\n",
    "cleanedDf = cleanedDf.fillna(0)"
   ]
  },
  {
   "cell_type": "code",
   "execution_count": 6,
   "metadata": {},
   "outputs": [],
   "source": [
    "cleanedDf = cleanedDf.reset_index()\n",
    "cleanedDf = cleanedDf.drop(['index'], axis=1)"
   ]
  },
  {
   "cell_type": "code",
   "execution_count": 7,
   "metadata": {},
   "outputs": [],
   "source": [
    "cleanedDf.to_csv('testing_rates_state.csv')"
   ]
  },
  {
   "cell_type": "code",
   "execution_count": 8,
   "metadata": {},
   "outputs": [],
   "source": [
    "# County"
   ]
  },
  {
   "cell_type": "code",
   "execution_count": 9,
   "metadata": {},
   "outputs": [],
   "source": [
    "df = pd.read_csv('../countydemographics/county_demographics.csv')\n",
    "cleanedDf = pd.DataFrame(dtype=str)"
   ]
  },
  {
   "cell_type": "code",
   "execution_count": 10,
   "metadata": {},
   "outputs": [],
   "source": [
    "for row in df.iterrows():\n",
    "    row = row[1]\n",
    "    fips = row['fips']\n",
    "    state_code = row['state_code']\n",
    "    pop = row['population']\n",
    "    \n",
    "    stateTr = pd.read_csv('testing_rates_state.csv')\n",
    "    stateTr = stateTr[stateTr['state_code'] == state_code]\n",
    "    stateTr = stateTr.rename({'state_code':'fips'}, axis=1)\n",
    "    stateTr = stateTr * pop\n",
    "    stateTr['fips'] = fips\n",
    "    \n",
    "    cleanedDf = cleanedDf.append(stateTr)"
   ]
  },
  {
   "cell_type": "code",
   "execution_count": 11,
   "metadata": {},
   "outputs": [],
   "source": [
    "cleanedDf = cleanedDf.fillna(0)\n",
    "cleanedDf = cleanedDf.reset_index()\n",
    "cleanedDf = cleanedDf.drop(['index'], axis=1)\n",
    "cleanedDf = cleanedDf.drop(cleanedDf.columns[0],axis=1)"
   ]
  },
  {
   "cell_type": "code",
   "execution_count": 12,
   "metadata": {},
   "outputs": [],
   "source": [
    "cleanedDf.to_csv('testing_rates_county.csv')"
   ]
  },
  {
   "cell_type": "code",
   "execution_count": null,
   "metadata": {},
   "outputs": [],
   "source": []
  }
 ],
 "metadata": {
  "kernelspec": {
   "display_name": "Python 3",
   "language": "python",
   "name": "python3"
  },
  "language_info": {
   "codemirror_mode": {
    "name": "ipython",
    "version": 3
   },
   "file_extension": ".py",
   "mimetype": "text/x-python",
   "name": "python",
   "nbconvert_exporter": "python",
   "pygments_lexer": "ipython3",
   "version": "3.7.7"
  }
 },
 "nbformat": 4,
 "nbformat_minor": 4
}
