{
 "cells": [
  {
   "cell_type": "code",
   "execution_count": 1,
   "metadata": {},
   "outputs": [],
   "source": [
    "import pandas as pd\n",
    "from datetime import datetime"
   ]
  },
  {
   "cell_type": "code",
   "execution_count": 2,
   "metadata": {},
   "outputs": [],
   "source": [
    "df = pd.read_csv('raw/raw_confirmed_cases.csv')"
   ]
  },
  {
   "cell_type": "code",
   "execution_count": 3,
   "metadata": {},
   "outputs": [],
   "source": [
    "df = df.drop(['UID','iso2', 'iso3', 'code3','Admin2','Province_State','Country_Region','Lat','Long_', 'Combined_Key'], axis=1)"
   ]
  },
  {
   "cell_type": "code",
   "execution_count": 4,
   "metadata": {},
   "outputs": [],
   "source": [
    "columns = []\n",
    "for i,date in enumerate(df.columns):\n",
    "    if i == 0:\n",
    "        continue\n",
    "        \n",
    "    datetime_object = datetime.strptime(date, '%m/%d/%y')\n",
    "    date = datetime_object.strftime(\"%Y-%m-%d\")\n",
    "    columns.append(date)\n",
    "columns.insert(0,'fips')\n",
    "\n",
    "df.columns = columns"
   ]
  },
  {
   "cell_type": "code",
   "execution_count": 5,
   "metadata": {},
   "outputs": [],
   "source": [
    "df.to_csv('confirmed_cases_county_cumulative.csv')"
   ]
  },
  {
   "cell_type": "code",
   "execution_count": 6,
   "metadata": {},
   "outputs": [],
   "source": [
    "fips = df['fips']\n",
    "cleanedDf = pd.DataFrame(dtype=str)\n",
    "\n",
    "for fip in fips:\n",
    "    row = df.loc[df['fips'] == float(fip)]\n",
    "    values = row.values[0]\n",
    "    \n",
    "    data = [fip,0]\n",
    "    for i,value in enumerate(values):\n",
    "        if i >= 2:\n",
    "            data.append(values[i]-values[i-1])\n",
    "        \n",
    "    cleanedDf = cleanedDf.append(pd.Series(data, index=row.columns), ignore_index=True)"
   ]
  },
  {
   "cell_type": "code",
   "execution_count": 7,
   "metadata": {},
   "outputs": [],
   "source": [
    "cleanedDf = cleanedDf[cleanedDf >= 0]\n",
    "cleanedDf.interpolate(axis=1)\n",
    "firstCol = cleanedDf.pop('fips')\n",
    "cleanedDf.insert(0, 'fips', firstCol)\n",
    "cleanedDf.to_csv('confirmed_cases_county.csv')"
   ]
  },
  {
   "cell_type": "code",
   "execution_count": 8,
   "metadata": {},
   "outputs": [],
   "source": [
    "# Deaths"
   ]
  },
  {
   "cell_type": "code",
   "execution_count": 9,
   "metadata": {},
   "outputs": [],
   "source": [
    "df = pd.read_csv('raw/raw_deaths.csv')\n",
    "df = df.drop(['UID','iso2', 'iso3', 'code3','Admin2','Province_State','Country_Region','Lat','Long_', 'Combined_Key', 'Population'], axis=1)"
   ]
  },
  {
   "cell_type": "code",
   "execution_count": 10,
   "metadata": {},
   "outputs": [],
   "source": [
    "columns = []\n",
    "for i,date in enumerate(df.columns):\n",
    "    if i == 0:\n",
    "        continue\n",
    "        \n",
    "    datetime_object = datetime.strptime(date, '%m/%d/%y')\n",
    "    date = datetime_object.strftime(\"%Y-%m-%d\")\n",
    "    columns.append(date)\n",
    "columns.insert(0,'fips')\n",
    "\n",
    "df.columns = columns"
   ]
  },
  {
   "cell_type": "code",
   "execution_count": 11,
   "metadata": {},
   "outputs": [],
   "source": [
    "df.to_csv('deaths_county_cumulative.csv')"
   ]
  },
  {
   "cell_type": "code",
   "execution_count": 12,
   "metadata": {},
   "outputs": [],
   "source": [
    "fips = df['fips']\n",
    "cleanedDf = pd.DataFrame(dtype=str)\n",
    "\n",
    "for fip in fips:\n",
    "    row = df.loc[df['fips'] == float(fip)]\n",
    "    values = row.values[0]\n",
    "    \n",
    "    data = [fip,0]\n",
    "    for i,value in enumerate(values):\n",
    "        if i >= 2:\n",
    "            data.append(values[i]-values[i-1])\n",
    "        \n",
    "    cleanedDf = cleanedDf.append(pd.Series(data, index=row.columns), ignore_index=True)"
   ]
  },
  {
   "cell_type": "code",
   "execution_count": 13,
   "metadata": {},
   "outputs": [],
   "source": [
    "cleanedDf = cleanedDf[cleanedDf >= 0]\n",
    "cleanedDf.interpolate(axis=1)\n",
    "firstCol = cleanedDf.pop('fips')\n",
    "cleanedDf.insert(0, 'fips', firstCol)\n",
    "cleanedDf.to_csv('deaths_county.csv')"
   ]
  },
  {
   "cell_type": "code",
   "execution_count": null,
   "metadata": {},
   "outputs": [],
   "source": []
  }
 ],
 "metadata": {
  "kernelspec": {
   "display_name": "Python 3",
   "language": "python",
   "name": "python3"
  },
  "language_info": {
   "codemirror_mode": {
    "name": "ipython",
    "version": 3
   },
   "file_extension": ".py",
   "mimetype": "text/x-python",
   "name": "python",
   "nbconvert_exporter": "python",
   "pygments_lexer": "ipython3",
   "version": "3.7.7"
  }
 },
 "nbformat": 4,
 "nbformat_minor": 4
}
