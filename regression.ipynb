{
 "cells": [
  {
   "cell_type": "code",
   "execution_count": 1,
   "metadata": {},
   "outputs": [],
   "source": [
    "import pandas as pd\n",
    "import numpy as np"
   ]
  },
  {
   "cell_type": "code",
   "execution_count": 2,
   "metadata": {},
   "outputs": [],
   "source": [
    "fips = '36061'"
   ]
  },
  {
   "cell_type": "code",
   "execution_count": 3,
   "metadata": {},
   "outputs": [
    {
     "data": {
      "text/html": [
       "<div>\n",
       "<style scoped>\n",
       "    .dataframe tbody tr th:only-of-type {\n",
       "        vertical-align: middle;\n",
       "    }\n",
       "\n",
       "    .dataframe tbody tr th {\n",
       "        vertical-align: top;\n",
       "    }\n",
       "\n",
       "    .dataframe thead th {\n",
       "        text-align: right;\n",
       "    }\n",
       "</style>\n",
       "<table border=\"1\" class=\"dataframe\">\n",
       "  <thead>\n",
       "    <tr style=\"text-align: right;\">\n",
       "      <th></th>\n",
       "      <th>fips</th>\n",
       "      <th>2020-01-13</th>\n",
       "      <th>2020-01-14</th>\n",
       "      <th>2020-01-15</th>\n",
       "      <th>2020-01-16</th>\n",
       "      <th>2020-01-17</th>\n",
       "      <th>2020-01-18</th>\n",
       "      <th>2020-01-19</th>\n",
       "      <th>2020-01-20</th>\n",
       "      <th>2020-01-21</th>\n",
       "      <th>...</th>\n",
       "      <th>2020-05-18</th>\n",
       "      <th>2020-05-19</th>\n",
       "      <th>2020-05-20</th>\n",
       "      <th>2020-05-21</th>\n",
       "      <th>2020-05-22</th>\n",
       "      <th>2020-05-23</th>\n",
       "      <th>2020-05-24</th>\n",
       "      <th>2020-05-25</th>\n",
       "      <th>2020-05-26</th>\n",
       "      <th>2020-05-27</th>\n",
       "    </tr>\n",
       "  </thead>\n",
       "  <tbody>\n",
       "    <tr>\n",
       "      <th>868</th>\n",
       "      <td>36061.0</td>\n",
       "      <td>100.0</td>\n",
       "      <td>94.86</td>\n",
       "      <td>99.23</td>\n",
       "      <td>103.35</td>\n",
       "      <td>122.96</td>\n",
       "      <td>115.13</td>\n",
       "      <td>107.98</td>\n",
       "      <td>87.73</td>\n",
       "      <td>90.64</td>\n",
       "      <td>...</td>\n",
       "      <td>30.37</td>\n",
       "      <td>31.91</td>\n",
       "      <td>32.87</td>\n",
       "      <td>34.93</td>\n",
       "      <td>39.5</td>\n",
       "      <td>30.65</td>\n",
       "      <td>33.82</td>\n",
       "      <td>32.03</td>\n",
       "      <td>36.65</td>\n",
       "      <td>37.29</td>\n",
       "    </tr>\n",
       "  </tbody>\n",
       "</table>\n",
       "<p>1 rows × 135 columns</p>\n",
       "</div>"
      ],
      "text/plain": [
       "        fips  2020-01-13  2020-01-14  2020-01-15  2020-01-16  2020-01-17  \\\n",
       "868  36061.0       100.0       94.86       99.23      103.35      122.96   \n",
       "\n",
       "     2020-01-18  2020-01-19  2020-01-20  2020-01-21  ...  2020-05-18  \\\n",
       "868      115.13      107.98       87.73       90.64  ...       30.37   \n",
       "\n",
       "     2020-05-19  2020-05-20  2020-05-21  2020-05-22  2020-05-23  2020-05-24  \\\n",
       "868       31.91       32.87       34.93        39.5       30.65       33.82   \n",
       "\n",
       "     2020-05-25  2020-05-26  2020-05-27  \n",
       "868       32.03       36.65       37.29  \n",
       "\n",
       "[1 rows x 135 columns]"
      ]
     },
     "execution_count": 3,
     "metadata": {},
     "output_type": "execute_result"
    }
   ],
   "source": [
    "# Cleaning and retrieving mobility data\n",
    "\n",
    "mob = pd.read_csv('applemobilitydata/applemobilitycleaned_county.csv')\n",
    "mob = mob.loc[mob['fips'] == float(fips)]\n",
    "cols = [0,2,3]\n",
    "mob = mob.drop(mob.columns[cols], axis=1)\n",
    "mob"
   ]
  },
  {
   "cell_type": "code",
   "execution_count": 4,
   "metadata": {},
   "outputs": [
    {
     "data": {
      "text/html": [
       "<div>\n",
       "<style scoped>\n",
       "    .dataframe tbody tr th:only-of-type {\n",
       "        vertical-align: middle;\n",
       "    }\n",
       "\n",
       "    .dataframe tbody tr th {\n",
       "        vertical-align: top;\n",
       "    }\n",
       "\n",
       "    .dataframe thead th {\n",
       "        text-align: right;\n",
       "    }\n",
       "</style>\n",
       "<table border=\"1\" class=\"dataframe\">\n",
       "  <thead>\n",
       "    <tr style=\"text-align: right;\">\n",
       "      <th></th>\n",
       "      <th>fips</th>\n",
       "      <th>2020-04-13</th>\n",
       "      <th>2020-04-14</th>\n",
       "      <th>2020-04-15</th>\n",
       "      <th>2020-04-16</th>\n",
       "      <th>2020-04-17</th>\n",
       "      <th>2020-04-18</th>\n",
       "      <th>2020-04-19</th>\n",
       "      <th>2020-04-20</th>\n",
       "      <th>2020-04-21</th>\n",
       "      <th>...</th>\n",
       "      <th>2020-05-04</th>\n",
       "      <th>2020-05-05</th>\n",
       "      <th>2020-05-06</th>\n",
       "      <th>2020-05-07</th>\n",
       "      <th>2020-05-08</th>\n",
       "      <th>2020-05-09</th>\n",
       "      <th>2020-05-10</th>\n",
       "      <th>2020-05-11</th>\n",
       "      <th>2020-05-12</th>\n",
       "      <th>2020-05-13</th>\n",
       "    </tr>\n",
       "  </thead>\n",
       "  <tbody>\n",
       "    <tr>\n",
       "      <th>30</th>\n",
       "      <td>36061</td>\n",
       "      <td>23.942948</td>\n",
       "      <td>22.669515</td>\n",
       "      <td>21.310849</td>\n",
       "      <td>19.385167</td>\n",
       "      <td>17.659743</td>\n",
       "      <td>18.039532</td>\n",
       "      <td>18.78854</td>\n",
       "      <td>20.028444</td>\n",
       "      <td>19.952245</td>\n",
       "      <td>...</td>\n",
       "      <td>12.369208</td>\n",
       "      <td>11.85822</td>\n",
       "      <td>11.981621</td>\n",
       "      <td>11.122302</td>\n",
       "      <td>10.857461</td>\n",
       "      <td>11.373938</td>\n",
       "      <td>11.499215</td>\n",
       "      <td>10.729665</td>\n",
       "      <td>10.321903</td>\n",
       "      <td>10.541343</td>\n",
       "    </tr>\n",
       "  </tbody>\n",
       "</table>\n",
       "<p>1 rows × 32 columns</p>\n",
       "</div>"
      ],
      "text/plain": [
       "     fips  2020-04-13  2020-04-14  2020-04-15  2020-04-16  2020-04-17  \\\n",
       "30  36061   23.942948   22.669515   21.310849   19.385167   17.659743   \n",
       "\n",
       "    2020-04-18  2020-04-19  2020-04-20  2020-04-21  ...  2020-05-04  \\\n",
       "30   18.039532    18.78854   20.028444   19.952245  ...   12.369208   \n",
       "\n",
       "    2020-05-05  2020-05-06  2020-05-07  2020-05-08  2020-05-09  2020-05-10  \\\n",
       "30    11.85822   11.981621   11.122302   10.857461   11.373938   11.499215   \n",
       "\n",
       "    2020-05-11  2020-05-12  2020-05-13  \n",
       "30   10.729665   10.321903   10.541343  \n",
       "\n",
       "[1 rows x 32 columns]"
      ]
     },
     "execution_count": 4,
     "metadata": {},
     "output_type": "execute_result"
    }
   ],
   "source": [
    "# Cleaning and retrieving symptoms data\n",
    "\n",
    "sym = pd.read_csv('covidsymptoms/covidsymptoms_google.csv')\n",
    "sym = sym.loc[sym['fips'] == float(fips)]\n",
    "cols = [0,2,3]\n",
    "sym = sym.drop(sym.columns[cols], axis=1)\n",
    "sym"
   ]
  },
  {
   "cell_type": "code",
   "execution_count": 5,
   "metadata": {},
   "outputs": [
    {
     "data": {
      "text/html": [
       "<div>\n",
       "<style scoped>\n",
       "    .dataframe tbody tr th:only-of-type {\n",
       "        vertical-align: middle;\n",
       "    }\n",
       "\n",
       "    .dataframe tbody tr th {\n",
       "        vertical-align: top;\n",
       "    }\n",
       "\n",
       "    .dataframe thead th {\n",
       "        text-align: right;\n",
       "    }\n",
       "</style>\n",
       "<table border=\"1\" class=\"dataframe\">\n",
       "  <thead>\n",
       "    <tr style=\"text-align: right;\">\n",
       "      <th></th>\n",
       "      <th>fips</th>\n",
       "      <th>median_age</th>\n",
       "      <th>population</th>\n",
       "      <th>Density per square mile of land area</th>\n",
       "    </tr>\n",
       "  </thead>\n",
       "  <tbody>\n",
       "    <tr>\n",
       "      <th>1857</th>\n",
       "      <td>36061</td>\n",
       "      <td>37.3</td>\n",
       "      <td>1632480</td>\n",
       "      <td>69468.4</td>\n",
       "    </tr>\n",
       "  </tbody>\n",
       "</table>\n",
       "</div>"
      ],
      "text/plain": [
       "       fips  median_age  population  Density per square mile of land area\n",
       "1857  36061        37.3     1632480                               69468.4"
      ]
     },
     "execution_count": 5,
     "metadata": {},
     "output_type": "execute_result"
    }
   ],
   "source": [
    "# Cleaning and retrieving demographics data\n",
    "\n",
    "dem = pd.read_csv('countydemographics/county_demographics.csv')\n",
    "dem = dem.loc[dem['fips'] == float(fips)]\n",
    "cols = [0,2,3,4,5,6,9,10,11]\n",
    "dem = dem.drop(dem.columns[cols], axis=1)\n",
    "dem"
   ]
  },
  {
   "cell_type": "code",
   "execution_count": 6,
   "metadata": {},
   "outputs": [
    {
     "data": {
      "text/html": [
       "<div>\n",
       "<style scoped>\n",
       "    .dataframe tbody tr th:only-of-type {\n",
       "        vertical-align: middle;\n",
       "    }\n",
       "\n",
       "    .dataframe tbody tr th {\n",
       "        vertical-align: top;\n",
       "    }\n",
       "\n",
       "    .dataframe thead th {\n",
       "        text-align: right;\n",
       "    }\n",
       "</style>\n",
       "<table border=\"1\" class=\"dataframe\">\n",
       "  <thead>\n",
       "    <tr style=\"text-align: right;\">\n",
       "      <th></th>\n",
       "      <th>fips</th>\n",
       "      <th>2020-01-22</th>\n",
       "      <th>2020-01-23</th>\n",
       "      <th>2020-01-24</th>\n",
       "      <th>2020-01-25</th>\n",
       "      <th>2020-01-26</th>\n",
       "      <th>2020-01-27</th>\n",
       "      <th>2020-01-28</th>\n",
       "      <th>2020-01-29</th>\n",
       "      <th>2020-01-30</th>\n",
       "      <th>...</th>\n",
       "      <th>2020-05-20</th>\n",
       "      <th>2020-05-21</th>\n",
       "      <th>2020-05-22</th>\n",
       "      <th>2020-05-23</th>\n",
       "      <th>2020-05-24</th>\n",
       "      <th>2020-05-25</th>\n",
       "      <th>2020-05-26</th>\n",
       "      <th>2020-05-27</th>\n",
       "      <th>2020-05-28</th>\n",
       "      <th>2020-05-29</th>\n",
       "    </tr>\n",
       "  </thead>\n",
       "  <tbody>\n",
       "    <tr>\n",
       "      <th>1856</th>\n",
       "      <td>36061</td>\n",
       "      <td>0.0</td>\n",
       "      <td>0.0</td>\n",
       "      <td>0.0</td>\n",
       "      <td>0.0</td>\n",
       "      <td>0.0</td>\n",
       "      <td>0.0</td>\n",
       "      <td>0.0</td>\n",
       "      <td>0.0</td>\n",
       "      <td>0.0</td>\n",
       "      <td>...</td>\n",
       "      <td>0.019582</td>\n",
       "      <td>0.019074</td>\n",
       "      <td>0.018617</td>\n",
       "      <td>0.018129</td>\n",
       "      <td>0.017697</td>\n",
       "      <td>0.017354</td>\n",
       "      <td>0.017065</td>\n",
       "      <td>0.016764</td>\n",
       "      <td>0.01626</td>\n",
       "      <td>0.015763</td>\n",
       "    </tr>\n",
       "  </tbody>\n",
       "</table>\n",
       "<p>1 rows × 130 columns</p>\n",
       "</div>"
      ],
      "text/plain": [
       "       fips  2020-01-22  2020-01-23  2020-01-24  2020-01-25  2020-01-26  \\\n",
       "1856  36061         0.0         0.0         0.0         0.0         0.0   \n",
       "\n",
       "      2020-01-27  2020-01-28  2020-01-29  2020-01-30  ...  2020-05-20  \\\n",
       "1856         0.0         0.0         0.0         0.0  ...    0.019582   \n",
       "\n",
       "      2020-05-21  2020-05-22  2020-05-23  2020-05-24  2020-05-25  2020-05-26  \\\n",
       "1856    0.019074    0.018617    0.018129    0.017697    0.017354    0.017065   \n",
       "\n",
       "      2020-05-27  2020-05-28  2020-05-29  \n",
       "1856    0.016764     0.01626    0.015763  \n",
       "\n",
       "[1 rows x 130 columns]"
      ]
     },
     "execution_count": 6,
     "metadata": {},
     "output_type": "execute_result"
    }
   ],
   "source": [
    "# Cleaning and retrieving testing rate data\n",
    "\n",
    "tes = pd.read_csv('testingrates/testing_rates_county.csv')\n",
    "tes = tes.loc[tes['fips'] == float(fips)]\n",
    "cols = [0]\n",
    "tes = tes.drop(tes.columns[cols], axis=1)\n",
    "tes"
   ]
  },
  {
   "cell_type": "code",
   "execution_count": 7,
   "metadata": {},
   "outputs": [
    {
     "data": {
      "text/html": [
       "<div>\n",
       "<style scoped>\n",
       "    .dataframe tbody tr th:only-of-type {\n",
       "        vertical-align: middle;\n",
       "    }\n",
       "\n",
       "    .dataframe tbody tr th {\n",
       "        vertical-align: top;\n",
       "    }\n",
       "\n",
       "    .dataframe thead th {\n",
       "        text-align: right;\n",
       "    }\n",
       "</style>\n",
       "<table border=\"1\" class=\"dataframe\">\n",
       "  <thead>\n",
       "    <tr style=\"text-align: right;\">\n",
       "      <th></th>\n",
       "      <th>fips</th>\n",
       "      <th>2020-01-22</th>\n",
       "      <th>2020-01-23</th>\n",
       "      <th>2020-01-24</th>\n",
       "      <th>2020-01-25</th>\n",
       "      <th>2020-01-26</th>\n",
       "      <th>2020-01-27</th>\n",
       "      <th>2020-01-28</th>\n",
       "      <th>2020-01-29</th>\n",
       "      <th>2020-01-30</th>\n",
       "      <th>...</th>\n",
       "      <th>2020-05-19</th>\n",
       "      <th>2020-05-20</th>\n",
       "      <th>2020-05-21</th>\n",
       "      <th>2020-05-22</th>\n",
       "      <th>2020-05-23</th>\n",
       "      <th>2020-05-24</th>\n",
       "      <th>2020-05-25</th>\n",
       "      <th>2020-05-26</th>\n",
       "      <th>2020-05-27</th>\n",
       "      <th>2020-05-28</th>\n",
       "    </tr>\n",
       "  </thead>\n",
       "  <tbody>\n",
       "    <tr>\n",
       "      <th>1858</th>\n",
       "      <td>36061</td>\n",
       "      <td>0</td>\n",
       "      <td>0</td>\n",
       "      <td>0</td>\n",
       "      <td>0</td>\n",
       "      <td>0</td>\n",
       "      <td>0</td>\n",
       "      <td>0</td>\n",
       "      <td>0</td>\n",
       "      <td>0</td>\n",
       "      <td>...</td>\n",
       "      <td>97541.0</td>\n",
       "      <td>97009.0</td>\n",
       "      <td>98666.0</td>\n",
       "      <td>97818.0</td>\n",
       "      <td>99448.0</td>\n",
       "      <td>98675.0</td>\n",
       "      <td>100056.0</td>\n",
       "      <td>99245.0</td>\n",
       "      <td>100723.0</td>\n",
       "      <td>100328.0</td>\n",
       "    </tr>\n",
       "  </tbody>\n",
       "</table>\n",
       "<p>1 rows × 129 columns</p>\n",
       "</div>"
      ],
      "text/plain": [
       "       fips  2020-01-22  2020-01-23  2020-01-24  2020-01-25  2020-01-26  \\\n",
       "1858  36061           0           0           0           0           0   \n",
       "\n",
       "      2020-01-27  2020-01-28  2020-01-29  2020-01-30  ...  2020-05-19  \\\n",
       "1858           0           0           0           0  ...     97541.0   \n",
       "\n",
       "      2020-05-20  2020-05-21  2020-05-22  2020-05-23  2020-05-24  2020-05-25  \\\n",
       "1858     97009.0     98666.0     97818.0     99448.0     98675.0    100056.0   \n",
       "\n",
       "      2020-05-26  2020-05-27  2020-05-28  \n",
       "1858     99245.0    100723.0    100328.0  \n",
       "\n",
       "[1 rows x 129 columns]"
      ]
     },
     "execution_count": 7,
     "metadata": {},
     "output_type": "execute_result"
    }
   ],
   "source": [
    "# Cleaning and retrieving case data\n",
    "\n",
    "cas = pd.read_csv('covidstats/confirmed_cases_county.csv')\n",
    "cas = cas.loc[cas['fips'] == float(fips)]\n",
    "cols = [0]\n",
    "cas = cas.drop(cas.columns[cols], axis=1)\n",
    "cas"
   ]
  },
  {
   "cell_type": "code",
   "execution_count": 8,
   "metadata": {},
   "outputs": [],
   "source": [
    "newX = pd.concat([mob,sym])\n",
    "newX = newX.reset_index()\n",
    "newX = newX.drop(newX.columns[[0,1]], axis=1)\n",
    "\n",
    "newY = pd.concat([cas])\n",
    "newY = newY.reset_index()\n",
    "newY = newY.drop(newY.columns[[0,1]], axis=1)"
   ]
  },
  {
   "cell_type": "code",
   "execution_count": 9,
   "metadata": {},
   "outputs": [],
   "source": [
    "newX = newX.T\n",
    "newY = newY.T\n",
    "newX = newX.fillna(0)\n",
    "newY = newY.fillna(0)"
   ]
  },
  {
   "cell_type": "code",
   "execution_count": 10,
   "metadata": {},
   "outputs": [],
   "source": [
    "X = newX[[0,1]]\n",
    "y = newY[[0]]"
   ]
  },
  {
   "cell_type": "code",
   "execution_count": 11,
   "metadata": {
    "scrolled": true
   },
   "outputs": [],
   "source": [
    "# Moving averages\n",
    "\n",
    "X[0] = X[0].rolling(window=14).mean().dropna()\n",
    "X[1] = X[1].rolling(window=9).mean().dropna()\n",
    "\n",
    "#y[1] = y[1].shift(14).dropna()\n",
    "X = X[X.index.isin(y.index)]\n",
    "y = y[y.index.isin(X.index)]\n",
    "X = X.fillna(0)\n",
    "y = y.fillna(0)"
   ]
  },
  {
   "cell_type": "code",
   "execution_count": 12,
   "metadata": {},
   "outputs": [],
   "source": [
    "from sklearn.linear_model import LinearRegression\n",
    "from sklearn.model_selection import train_test_split\n",
    "from sklearn import model_selection\n",
    "from sklearn import metrics"
   ]
  },
  {
   "cell_type": "code",
   "execution_count": 13,
   "metadata": {
    "scrolled": true
   },
   "outputs": [
    {
     "data": {
      "text/plain": [
       "<matplotlib.axes._subplots.AxesSubplot at 0x1a1dbd7710>"
      ]
     },
     "execution_count": 13,
     "metadata": {},
     "output_type": "execute_result"
    },
    {
     "data": {
      "image/png": "[encoded data removed]",
      "text/plain": [
       "<Figure size 432x288 with 1 Axes>"
      ]
     },
     "metadata": {
      "needs_background": "light"
     },
     "output_type": "display_data"
    }
   ],
   "source": [
    "regressor = LinearRegression()\n",
    "X_train, X_test, y_train, y_test = train_test_split(X, y, test_size=0.2, shuffle=True)\n",
    "model = regressor.fit(X_train, y_train)\n",
    "y_pred = regressor.predict(X_test)\n",
    "df = pd.DataFrame({'Actual': y_test.to_numpy().flatten(), 'Predicted': y_pred.flatten()})\n",
    "df.plot()"
   ]
  },
  {
   "cell_type": "code",
   "execution_count": 14,
   "metadata": {
    "scrolled": true
   },
   "outputs": [
    {
     "data": {
      "text/plain": [
       "<matplotlib.axes._subplots.AxesSubplot at 0x1a1e41f0d0>"
      ]
     },
     "execution_count": 14,
     "metadata": {},
     "output_type": "execute_result"
    },
    {
     "data": {
      "image/png": "[encoded data removed]",
      "text/plain": [
       "<Figure size 432x288 with 1 Axes>"
      ]
     },
     "metadata": {
      "needs_background": "light"
     },
     "output_type": "display_data"
    }
   ],
   "source": [
    "y_pred = regressor.predict(X)\n",
    "df = pd.DataFrame({'Actual': y.to_numpy().flatten(), 'Predicted': y_pred.flatten()})\n",
    "df.plot()"
   ]
  },
  {
   "cell_type": "code",
   "execution_count": null,
   "metadata": {},
   "outputs": [],
   "source": []
  },
  {
   "cell_type": "markdown",
   "metadata": {},
   "source": [
    "results = model_selection.cross_val_score(model, y_pred, y_test, scoring = 'r2')\n",
    "print(f'r^2: {results.mean()}, {results.std()}')"
   ]
  },
  {
   "cell_type": "markdown",
   "metadata": {},
   "source": [
    "print('Mean Absolute Error:', metrics.mean_absolute_error(y_test, y_pred))  \n",
    "print('Mean Squared Error:', metrics.mean_squared_error(y_test, y_pred))  \n",
    "print('Root Mean Squared Error:', np.sqrt(metrics.mean_squared_error(y_test, y_pred)))"
   ]
  }
 ],
 "metadata": {
  "kernelspec": {
   "display_name": "Python 3",
   "language": "python",
   "name": "python3"
  },
  "language_info": {
   "codemirror_mode": {
    "name": "ipython",
    "version": 3
   },
   "file_extension": ".py",
   "mimetype": "text/x-python",
   "name": "python",
   "nbconvert_exporter": "python",
   "pygments_lexer": "ipython3",
   "version": "3.7.7"
  }
 },
 "nbformat": 4,
 "nbformat_minor": 4
}
