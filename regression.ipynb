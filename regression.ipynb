{
 "cells": [
  {
   "cell_type": "code",
   "execution_count": 177,
   "metadata": {},
   "outputs": [],
   "source": [
    "import pandas as pd\n",
    "import numpy as np"
   ]
  },
  {
   "cell_type": "code",
   "execution_count": 178,
   "metadata": {},
   "outputs": [],
   "source": [
    "fips = '36061'"
   ]
  },
  {
   "cell_type": "code",
   "execution_count": 179,
   "metadata": {},
   "outputs": [],
   "source": [
    "# Cleaning and retrieving mobility data\n",
    "\n",
    "mob = pd.read_csv('applemobilitydata/applemobilitycleaned_county.csv')\n",
    "mob = mob.loc[mob['fips'] == float(fips)]\n",
    "cols = [0,2,3]\n",
    "mob = mob.drop(mob.columns[cols], axis=1)"
   ]
  },
  {
   "cell_type": "code",
   "execution_count": 180,
   "metadata": {},
   "outputs": [],
   "source": [
    "# Cleaning and retrieving symptoms data\n",
    "\n",
    "sym = pd.read_csv('covidsymptoms/covidsymptoms_google.csv')\n",
    "sym = sym.loc[sym['fips'] == float(fips)]\n",
    "cols = [0,2,3]\n",
    "sym = sym.drop(sym.columns[cols], axis=1)"
   ]
  },
  {
   "cell_type": "code",
   "execution_count": 181,
   "metadata": {},
   "outputs": [],
   "source": [
    "# Cleaning and retrieving demographics data\n",
    "\n",
    "dem = pd.read_csv('countydemographics/county_demographics.csv')\n",
    "dem = dem.loc[dem['fips'] == float(fips)]\n",
    "cols = [0,2,3,4,5,6,9,10,11]\n",
    "dem = dem.drop(dem.columns[cols], axis=1)"
   ]
  },
  {
   "cell_type": "code",
   "execution_count": 182,
   "metadata": {},
   "outputs": [],
   "source": [
    "# Cleaning and retrieving testing rate data\n",
    "\n",
    "tes = pd.read_csv('testingrates/testing_rates_county.csv')\n",
    "tes = tes.loc[tes['fips'] == float(fips)]\n",
    "cols = [0]\n",
    "tes = tes.drop(tes.columns[cols], axis=1)"
   ]
  },
  {
   "cell_type": "code",
   "execution_count": 183,
   "metadata": {},
   "outputs": [],
   "source": [
    "# Cleaning and retrieving case data\n",
    "\n",
    "cas = pd.read_csv('covidstats/confirmed_cases_county.csv')\n",
    "cas = cas.loc[cas['fips'] == float(fips)]\n",
    "cols = [0]\n",
    "cas = cas.drop(cas.columns[cols], axis=1)"
   ]
  },
  {
   "cell_type": "code",
   "execution_count": 184,
   "metadata": {},
   "outputs": [],
   "source": [
    "newX = pd.concat([mob,sym])\n",
    "newX = newX.reset_index()\n",
    "newX = newX.drop(newX.columns[[0,1]], axis=1)\n",
    "\n",
    "newY = pd.concat([cas])\n",
    "newY = newY.reset_index()\n",
    "newY = newY.drop(newY.columns[[0,1]], axis=1)"
   ]
  },
  {
   "cell_type": "code",
   "execution_count": 185,
   "metadata": {},
   "outputs": [],
   "source": [
    "newX = newX.T\n",
    "newY = newY.T\n",
    "newX = newX.fillna(0)\n",
    "newY = newY.fillna(0)"
   ]
  },
  {
   "cell_type": "code",
   "execution_count": 186,
   "metadata": {},
   "outputs": [],
   "source": [
    "X = newX[[0,1]]\n",
    "y = newY[[0]]"
   ]
  },
  {
   "cell_type": "code",
   "execution_count": 187,
   "metadata": {
    "scrolled": true
   },
   "outputs": [],
   "source": [
    "# Moving averages\n",
    "\n",
    "X[0] = X[0].rolling(window=4).mean().dropna()\n",
    "X[1] = X[1].rolling(window=2).mean().dropna()\n",
    "\n",
    "X[0] = X[0].shift(6).dropna()\n",
    "X[1] = X[1].shift(4).dropna()\n",
    "\n",
    "X = X[X.index.isin(y.index)]\n",
    "y = y[y.index.isin(X.index)]\n",
    "X = X.fillna(0)\n",
    "y = y.fillna(0)"
   ]
  },
  {
   "cell_type": "code",
   "execution_count": 188,
   "metadata": {},
   "outputs": [],
   "source": [
    "from sklearn.model_selection import train_test_split\n",
    "from sklearn import model_selection\n",
    "from sklearn import metrics\n",
    "from sklearn.preprocessing import StandardScaler\n",
    "\n",
    "X = StandardScaler().fit_transform(X)\n",
    "y = StandardScaler().fit_transform(y)\n",
    "y = np.reshape(y, (y.shape[0],))"
   ]
  },
  {
   "cell_type": "code",
   "execution_count": 189,
   "metadata": {},
   "outputs": [],
   "source": [
    "# Gaussian Process Regression"
   ]
  },
  {
   "cell_type": "code",
   "execution_count": 190,
   "metadata": {
    "scrolled": true
   },
   "outputs": [],
   "source": [
    "import sklearn.gaussian_process as gp\n",
    "kernel = gp.kernels.ConstantKernel(1.0, (1e-1, 1e3)) * gp.kernels.RBF(10.0, (1e-3, 1e3))\n",
    "regressor = gp.GaussianProcessRegressor(kernel=kernel, n_restarts_optimizer=10, alpha=0.1)\n",
    "\n",
    "#X_train, X_test, y_train, y_test = train_test_split(X, y, test_size=0.2, shuffle=True)\n",
    "model = regressor.fit(X, y)"
   ]
  },
  {
   "cell_type": "code",
   "execution_count": 191,
   "metadata": {
    "scrolled": false
   },
   "outputs": [
    {
     "data": {
      "text/plain": [
       "<matplotlib.axes._subplots.AxesSubplot at 0x120e04890>"
      ]
     },
     "execution_count": 191,
     "metadata": {},
     "output_type": "execute_result"
    },
    {
     "data": {
      "image/png": "[encoded data removed]",
      "text/plain": [
       "<Figure size 432x288 with 1 Axes>"
      ]
     },
     "metadata": {
      "needs_background": "light"
     },
     "output_type": "display_data"
    }
   ],
   "source": [
    "y_pred = regressor.predict(X)\n",
    "df = pd.DataFrame({'Actual': y.flatten(), 'Predicted': y_pred.flatten()})\n",
    "df.plot()"
   ]
  },
  {
   "cell_type": "code",
   "execution_count": null,
   "metadata": {},
   "outputs": [],
   "source": [
    "with pd.option_context('display.max_rows', None, 'display.max_columns', None):\n",
    "    print(X)"
   ]
  },
  {
   "cell_type": "code",
   "execution_count": null,
   "metadata": {},
   "outputs": [],
   "source": [
    "with pd.option_context('display.max_rows', None, 'display.max_columns', None):\n",
    "    print(y)"
   ]
  },
  {
   "cell_type": "code",
   "execution_count": null,
   "metadata": {},
   "outputs": [],
   "source": []
  }
 ],
 "metadata": {
  "kernelspec": {
   "display_name": "Python 3",
   "language": "python",
   "name": "python3"
  },
  "language_info": {
   "codemirror_mode": {
    "name": "ipython",
    "version": 3
   },
   "file_extension": ".py",
   "mimetype": "text/x-python",
   "name": "python",
   "nbconvert_exporter": "python",
   "pygments_lexer": "ipython3",
   "version": "3.7.7"
  }
 },
 "nbformat": 4,
 "nbformat_minor": 4
}
