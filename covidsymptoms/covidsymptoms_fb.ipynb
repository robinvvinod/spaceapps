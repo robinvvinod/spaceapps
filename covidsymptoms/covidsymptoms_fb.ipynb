{
 "cells": [
  {
   "cell_type": "code",
   "execution_count": 288,
   "metadata": {},
   "outputs": [],
   "source": [
    "from delphi_epidata import Epidata\n",
    "import pandas as pd"
   ]
  },
  {
   "cell_type": "code",
   "execution_count": 289,
   "metadata": {},
   "outputs": [],
   "source": [
    "# Data has to be acquired in batches since there is a length limit in the API. Acquiring in batches of 3 days\n",
    "\n",
    "def retrieveData(month,start,end,df):\n",
    "    if month < 10:\n",
    "        month = f'0{month}'\n",
    "    else:\n",
    "        month = str(month)\n",
    "    if start < 10:\n",
    "        start = f'0{start}'\n",
    "    else:\n",
    "        start = str(start)\n",
    "    if end < 10:\n",
    "        end = f'0{end}'\n",
    "    else:\n",
    "        end = str(end)\n",
    "        \n",
    "    for i in range(int(start),int(end)+1,3):\n",
    "        if i+1 < 10:\n",
    "            if i == int(start):\n",
    "                startdate = f'0{i}'\n",
    "            else:\n",
    "                startdate = f'0{i+1}'\n",
    "        else:\n",
    "            if i == int(start):\n",
    "                startdate = i\n",
    "            else:\n",
    "                startdate = i+1\n",
    "        enddate = i+3\n",
    "        if i + 3 < 10:\n",
    "            enddate = f'0{enddate}'\n",
    "        \n",
    "        if int(enddate) > int(end):\n",
    "            enddate = int(end)\n",
    "            \n",
    "        startdate = str(startdate)\n",
    "        enddate = str(enddate)\n",
    "        \n",
    "        if startdate == enddate:\n",
    "            break\n",
    "        \n",
    "        res = Epidata.covidcast('fv-survey', 'raw_wcli', 'day', 'county', [Epidata.range(int(f'2020{month}{startdate}'), int(f'2020{month}{enddate}'))], geo_value='*')\n",
    "        if res['result'] == 1:\n",
    "            df = df.append(res['epidata'])\n",
    "            print(f'retreival for {startdate} to {enddate} succeeded')\n",
    "        else:\n",
    "            print(f'Retreival for {startdate} to {enddate} failed')\n",
    "    \n",
    "    return df\n",
    "        "
   ]
  },
  {
   "cell_type": "code",
   "execution_count": null,
   "metadata": {},
   "outputs": [],
   "source": [
    "df = retrieveData(4,8,30, pd.DataFrame())\n",
    "df = retrieveData(5,1,27, df)"
   ]
  },
  {
   "cell_type": "code",
   "execution_count": 294,
   "metadata": {},
   "outputs": [],
   "source": [
    "counties = []\n",
    "for county in df['geo_value']:\n",
    "    counties.append(county)\n",
    "counties = list(set(counties))\n",
    "cleanedDf = pd.DataFrame(dtype=str)"
   ]
  },
  {
   "cell_type": "code",
   "execution_count": 295,
   "metadata": {},
   "outputs": [],
   "source": [
    "for county in counties:\n",
    "    countyData = df[df['geo_value'] == county]\n",
    "    countyData = countyData.reset_index()\n",
    "    countyData = countyData.drop(['index'], axis=1)\n",
    "    \n",
    "    # Time series is in rows unlike applemobility data, converting to columns instead\n",
    "    temp = pd.DataFrame(columns=['geo_value', *countyData['time_value']])\n",
    "    \n",
    "    # Renaming columns to match applemobility data\n",
    "    columns = [\"geo_value\"]\n",
    "    for i,column in enumerate(temp.columns):\n",
    "        if i == 0:\n",
    "            continue\n",
    "        column = list(str(column))\n",
    "        column.insert(4, '-')\n",
    "        column.insert(7, '-')\n",
    "        columns.append(''.join(column))\n",
    "    temp.columns = columns\n",
    "    \n",
    "    values = []\n",
    "    for i,column in enumerate(columns):\n",
    "        if i == 0:\n",
    "            values.append(str(countyData['geo_value'].values[0]))\n",
    "            continue\n",
    "        else:\n",
    "            columnAdj = int(column.replace('-', ''))\n",
    "            value = countyData[countyData['time_value'] == columnAdj].values[0][3]\n",
    "            values.append(value)\n",
    "    \n",
    "    temp = temp.append(pd.Series(values, index=temp.columns), ignore_index=True)\n",
    "    cleanedDf = cleanedDf.append(temp, ignore_index=True)"
   ]
  },
  {
   "cell_type": "code",
   "execution_count": 296,
   "metadata": {},
   "outputs": [],
   "source": [
    "cleanedDf = cleanedDf.reindex(sorted(cleanedDf.columns), axis=1)\n",
    "cleanedDf = cleanedDf.fillna(0)\n",
    "firstCol = cleanedDf.pop('geo_value')\n",
    "cleanedDf.insert(0, 'geo_value', firstCol)"
   ]
  },
  {
   "cell_type": "code",
   "execution_count": 298,
   "metadata": {},
   "outputs": [],
   "source": [
    "cleanedDf.to_csv('covidsymptoms_fb.csv')"
   ]
  },
  {
   "cell_type": "code",
   "execution_count": null,
   "metadata": {},
   "outputs": [],
   "source": []
  }
 ],
 "metadata": {
  "kernelspec": {
   "display_name": "Python 3",
   "language": "python",
   "name": "python3"
  },
  "language_info": {
   "codemirror_mode": {
    "name": "ipython",
    "version": 3
   },
   "file_extension": ".py",
   "mimetype": "text/x-python",
   "name": "python",
   "nbconvert_exporter": "python",
   "pygments_lexer": "ipython3",
   "version": "3.7.7"
  }
 },
 "nbformat": 4,
 "nbformat_minor": 4
}
