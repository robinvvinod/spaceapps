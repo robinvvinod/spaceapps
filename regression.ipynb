{
 "cells": [
  {
   "cell_type": "code",
   "execution_count": 47,
   "metadata": {},
   "outputs": [],
   "source": [
    "import pandas as pd\n",
    "import numpy as np"
   ]
  },
  {
   "cell_type": "code",
   "execution_count": 48,
   "metadata": {},
   "outputs": [],
   "source": [
    "fips = '36061'"
   ]
  },
  {
   "cell_type": "code",
   "execution_count": 49,
   "metadata": {},
   "outputs": [],
   "source": [
    "# Cleaning and retrieving mobility data\n",
    "\n",
    "mob = pd.read_csv('applemobilitydata/applemobilitycleaned_county.csv')\n",
    "mob = mob.loc[mob['fips'] == float(fips)]\n",
    "cols = [0,2,3]\n",
    "mob = mob.drop(mob.columns[cols], axis=1)"
   ]
  },
  {
   "cell_type": "code",
   "execution_count": 50,
   "metadata": {},
   "outputs": [],
   "source": [
    "# Cleaning and retrieving symptoms data\n",
    "\n",
    "sym = pd.read_csv('covidsymptoms/covidsymptoms_google.csv')\n",
    "sym = sym.loc[sym['fips'] == float(fips)]\n",
    "cols = [0,2,3]\n",
    "sym = sym.drop(sym.columns[cols], axis=1)"
   ]
  },
  {
   "cell_type": "code",
   "execution_count": 51,
   "metadata": {},
   "outputs": [],
   "source": [
    "# Cleaning and retrieving demographics data\n",
    "\n",
    "dem = pd.read_csv('countydemographics/county_demographics.csv')\n",
    "dem = dem.loc[dem['fips'] == float(fips)]\n",
    "cols = [0,2,3,4,5,6,9,10,11]\n",
    "dem = dem.drop(dem.columns[cols], axis=1)"
   ]
  },
  {
   "cell_type": "code",
   "execution_count": 52,
   "metadata": {},
   "outputs": [],
   "source": [
    "# Cleaning and retrieving testing rate data\n",
    "\n",
    "tes = pd.read_csv('testingrates/testing_rates_county.csv')\n",
    "tes = tes.loc[tes['fips'] == float(fips)]\n",
    "cols = [0]\n",
    "tes = tes.drop(tes.columns[cols], axis=1)"
   ]
  },
  {
   "cell_type": "code",
   "execution_count": 53,
   "metadata": {},
   "outputs": [],
   "source": [
    "# Cleaning and retrieving case data\n",
    "\n",
    "cas = pd.read_csv('covidstats/confirmed_cases_county.csv')\n",
    "cas = cas.loc[cas['fips'] == float(fips)]\n",
    "cols = [0]\n",
    "cas = cas.drop(cas.columns[cols], axis=1)"
   ]
  },
  {
   "cell_type": "code",
   "execution_count": 54,
   "metadata": {},
   "outputs": [],
   "source": [
    "newX = pd.concat([mob,sym])\n",
    "newX = newX.reset_index()\n",
    "newX = newX.drop(newX.columns[[0,1]], axis=1)\n",
    "\n",
    "newY = pd.concat([cas])\n",
    "newY = newY.reset_index()\n",
    "newY = newY.drop(newY.columns[[0,1]], axis=1)"
   ]
  },
  {
   "cell_type": "code",
   "execution_count": 55,
   "metadata": {},
   "outputs": [],
   "source": [
    "newX = newX.T\n",
    "newY = newY.T\n",
    "newX = newX.fillna(0)\n",
    "newY = newY.fillna(0)"
   ]
  },
  {
   "cell_type": "code",
   "execution_count": 56,
   "metadata": {},
   "outputs": [],
   "source": [
    "X = newX[[0,1]]\n",
    "y = newY[[0]]"
   ]
  },
  {
   "cell_type": "code",
   "execution_count": 57,
   "metadata": {
    "scrolled": true
   },
   "outputs": [],
   "source": [
    "# Moving averages\n",
    "\n",
    "X[0] = X[0].rolling(window=4).mean().dropna()\n",
    "X[1] = X[1].rolling(window=2).mean().dropna()\n",
    "\n",
    "X[0] = X[0].shift(6).dropna()\n",
    "X[1] = X[1].shift(4).dropna()\n",
    "\n",
    "#X = X[X.index.isin(y.index)]\n",
    "#y = y[y.index.isin(X.index)]\n",
    "#y = X.fillna(0)\n",
    "#y = y.fillna(0)"
   ]
  },
  {
   "cell_type": "code",
   "execution_count": 12,
   "metadata": {},
   "outputs": [],
   "source": [
    "from sklearn.model_selection import train_test_split\n",
    "from sklearn import model_selection\n",
    "from sklearn import metrics\n",
    "from sklearn.preprocessing import StandardScaler\n",
    "\n",
    "X = StandardScaler().fit_transform(X)\n",
    "y = StandardScaler().fit_transform(y)\n",
    "y = np.reshape(y, (y.shape[0],))"
   ]
  },
  {
   "cell_type": "code",
   "execution_count": 13,
   "metadata": {},
   "outputs": [],
   "source": [
    "# Gaussian Process Regression"
   ]
  },
  {
   "cell_type": "code",
   "execution_count": null,
   "metadata": {
    "scrolled": true
   },
   "outputs": [],
   "source": [
    "import sklearn.gaussian_process as gp\n",
    "kernel = gp.kernels.ConstantKernel(1.0, (1e-1, 1e3)) * gp.kernels.RBF(10.0, (1e-3, 1e3))\n",
    "regressor = gp.GaussianProcessRegressor(kernel=kernel, n_restarts_optimizer=10, alpha=0.1)\n",
    "\n",
    "#X_train, X_test, y_train, y_test = train_test_split(X, y, test_size=0.2, shuffle=True)\n",
    "model = regressor.fit(X, y)"
   ]
  },
  {
   "cell_type": "code",
   "execution_count": 15,
   "metadata": {
    "scrolled": false
   },
   "outputs": [
    {
     "data": {
      "text/plain": [
       "<matplotlib.axes._subplots.AxesSubplot at 0x11e0c2e10>"
      ]
     },
     "execution_count": 15,
     "metadata": {},
     "output_type": "execute_result"
    },
    {
     "data": {
      "image/png": "[encoded data removed]",
      "text/plain": [
       "<Figure size 432x288 with 1 Axes>"
      ]
     },
     "metadata": {
      "needs_background": "light"
     },
     "output_type": "display_data"
    }
   ],
   "source": [
    "y_pred = regressor.predict(X)\n",
    "df = pd.DataFrame({'Actual': y.flatten(), 'Predicted': y_pred.flatten()})\n",
    "df.plot()"
   ]
  },
  {
   "cell_type": "code",
   "execution_count": 58,
   "metadata": {},
   "outputs": [
    {
     "name": "stdout",
     "output_type": "stream",
     "text": [
      "                   0          1\n",
      "2020-01-13       NaN        NaN\n",
      "2020-01-14       NaN        NaN\n",
      "2020-01-15       NaN        NaN\n",
      "2020-01-16       NaN        NaN\n",
      "2020-01-17       NaN        NaN\n",
      "2020-01-18       NaN   0.000000\n",
      "2020-01-19       NaN   0.000000\n",
      "2020-01-20       NaN   0.000000\n",
      "2020-01-21       NaN   0.000000\n",
      "2020-01-22   99.3600   0.000000\n",
      "2020-01-23  105.1000   0.000000\n",
      "2020-01-24  110.1675   0.000000\n",
      "2020-01-25  112.3550   0.000000\n",
      "2020-01-26  108.4500   0.000000\n",
      "2020-01-27  100.3700   0.000000\n",
      "2020-01-28   95.4450   0.000000\n",
      "2020-01-29   94.1250   0.000000\n",
      "2020-01-30  103.4750   0.000000\n",
      "2020-01-31  111.5100   0.000000\n",
      "2020-02-01  112.2175   0.000000\n",
      "2020-02-02  108.4675   0.000000\n",
      "2020-02-03   99.9375   0.000000\n",
      "2020-02-04   93.0250   0.000000\n",
      "2020-02-05   94.0150   0.000000\n",
      "2020-02-06  103.2850   0.000000\n",
      "2020-02-07  111.8200   0.000000\n",
      "2020-02-08  109.9475   0.000000\n",
      "2020-02-09  107.2725   0.000000\n",
      "2020-02-10   99.6175   0.000000\n",
      "2020-02-11   92.5750   0.000000\n",
      "2020-02-12   96.8800   0.000000\n",
      "2020-02-13  105.9350   0.000000\n",
      "2020-02-14  116.3175   0.000000\n",
      "2020-02-15  117.8975   0.000000\n",
      "2020-02-16  115.3725   0.000000\n",
      "2020-02-17  108.5300   0.000000\n",
      "2020-02-18   99.9375   0.000000\n",
      "2020-02-19  101.9075   0.000000\n",
      "2020-02-20  114.8375   0.000000\n",
      "2020-02-21  125.1750   0.000000\n",
      "2020-02-22  129.6375   0.000000\n",
      "2020-02-23  128.2250   0.000000\n",
      "2020-02-24  117.0250   0.000000\n",
      "2020-02-25  108.1000   0.000000\n",
      "2020-02-26  106.2650   0.000000\n",
      "2020-02-27  112.9700   0.000000\n",
      "2020-02-28  122.6600   0.000000\n",
      "2020-02-29  121.9800   0.000000\n",
      "2020-03-01  117.6100   0.000000\n",
      "2020-03-02  108.8875   0.000000\n",
      "2020-03-03   98.8550   0.000000\n",
      "2020-03-04   99.8175   0.000000\n",
      "2020-03-05  109.0900   0.000000\n",
      "2020-03-06  118.0875   0.000000\n",
      "2020-03-07  117.9500   0.000000\n",
      "2020-03-08  115.2375   0.000000\n",
      "2020-03-09  107.0625   0.000000\n",
      "2020-03-10   99.5475   0.000000\n",
      "2020-03-11  102.3200   0.000000\n",
      "2020-03-12  109.7250   0.000000\n",
      "2020-03-13  118.1250   0.000000\n",
      "2020-03-14  117.1875   0.000000\n",
      "2020-03-15  114.7175   0.000000\n",
      "2020-03-16  106.9975   0.000000\n",
      "2020-03-17   96.0450   0.000000\n",
      "2020-03-18   90.9125   0.000000\n",
      "2020-03-19   85.0125   0.000000\n",
      "2020-03-20   76.9325   0.000000\n",
      "2020-03-21   65.6825   0.000000\n",
      "2020-03-22   56.1125   0.000000\n",
      "2020-03-23   45.2625   0.000000\n",
      "2020-03-24   37.3575   0.000000\n",
      "2020-03-25   33.3750   0.000000\n",
      "2020-03-26   30.3450   0.000000\n",
      "2020-03-27   27.5700   0.000000\n",
      "2020-03-28   24.1350   0.000000\n",
      "2020-03-29   21.8175   0.000000\n",
      "2020-03-30   19.5475   0.000000\n",
      "2020-03-31   18.4650   0.000000\n",
      "2020-04-01   19.0275   0.000000\n",
      "2020-04-02   19.9125   0.000000\n",
      "2020-04-03   19.4550   0.000000\n",
      "2020-04-04   18.7050   0.000000\n",
      "2020-04-05   18.4250   0.000000\n",
      "2020-04-06   17.5275   0.000000\n",
      "2020-04-07   17.6875   0.000000\n",
      "2020-04-08   18.3725   0.000000\n",
      "2020-04-09   18.7050   0.000000\n",
      "2020-04-10   18.7100   0.000000\n",
      "2020-04-11   18.1975   0.000000\n",
      "2020-04-12   18.2050   0.000000\n",
      "2020-04-13   17.9075   0.000000\n",
      "2020-04-14   18.0050   0.000000\n",
      "2020-04-15   18.6075   0.000000\n",
      "2020-04-16   19.1825   0.000000\n",
      "2020-04-17   19.5050  11.971474\n",
      "2020-04-18   19.0450  23.306231\n",
      "2020-04-19   18.9700  21.990182\n",
      "2020-04-20   18.8850  20.348008\n",
      "2020-04-21   19.0450  18.522455\n",
      "2020-04-22   20.0100  17.849638\n",
      "2020-04-23   21.0675  18.414036\n",
      "2020-04-24   21.1600  19.408492\n",
      "2020-04-25   21.2725  19.990345\n",
      "2020-04-26   21.4525  19.756142\n",
      "2020-04-27   20.8875  18.915655\n",
      "2020-04-28   21.2600  17.502634\n",
      "2020-04-29   21.4850  16.146616\n",
      "2020-04-30   22.0025  15.374766\n",
      "2020-05-01   23.3900  14.937911\n",
      "2020-05-02   22.7050  14.527480\n",
      "2020-05-03   22.7150  14.300327\n",
      "2020-05-04   23.1500  13.666179\n",
      "2020-05-05   22.4425  13.194573\n",
      "2020-05-06   23.4650  13.598293\n",
      "2020-05-07   24.8200  13.443207\n",
      "2020-05-08   26.0425  12.673524\n",
      "2020-05-09   26.8300  12.113714\n",
      "2020-05-10   27.5725  11.919920\n",
      "2020-05-13   27.5550  11.551962\n",
      "2020-05-14   26.3275  10.989882\n",
      "2020-05-15   26.7025  11.115699\n",
      "2020-05-16   27.0900  11.436576\n",
      "2020-05-17   27.1225  11.020279\n",
      "2020-05-18   27.2000   5.270672\n",
      "2020-05-19   27.5350   0.000000\n",
      "2020-05-20   28.1450   0.000000\n",
      "2020-05-21   30.2900   0.000000\n",
      "2020-05-22   32.6800   0.000000\n",
      "2020-05-23   32.7150   0.000000\n",
      "2020-05-24   32.6975   0.000000\n",
      "2020-05-25   31.6725   0.000000\n",
      "2020-05-26   31.1175   0.000000\n",
      "2020-05-27   32.5200   0.000000\n",
      "2020-05-11   34.8025   0.000000\n",
      "2020-05-12   34.4875   0.000000\n"
     ]
    }
   ],
   "source": [
    "with pd.option_context('display.max_rows', None, 'display.max_columns', None):\n",
    "    print(X)"
   ]
  },
  {
   "cell_type": "code",
   "execution_count": 59,
   "metadata": {},
   "outputs": [
    {
     "name": "stdout",
     "output_type": "stream",
     "text": [
      "                 0\n",
      "2020-01-22     0.0\n",
      "2020-01-23     0.0\n",
      "2020-01-24     0.0\n",
      "2020-01-25     0.0\n",
      "2020-01-26     0.0\n",
      "2020-01-27     0.0\n",
      "2020-01-28     0.0\n",
      "2020-01-29     0.0\n",
      "2020-01-30     0.0\n",
      "2020-01-31     0.0\n",
      "2020-02-01     0.0\n",
      "2020-02-02     0.0\n",
      "2020-02-03     0.0\n",
      "2020-02-04     0.0\n",
      "2020-02-05     0.0\n",
      "2020-02-06     0.0\n",
      "2020-02-07     0.0\n",
      "2020-02-08     0.0\n",
      "2020-02-09     0.0\n",
      "2020-02-10     0.0\n",
      "2020-02-11     0.0\n",
      "2020-02-12     0.0\n",
      "2020-02-13     0.0\n",
      "2020-02-14     0.0\n",
      "2020-02-15     0.0\n",
      "2020-02-16     0.0\n",
      "2020-02-17     0.0\n",
      "2020-02-18     0.0\n",
      "2020-02-19     0.0\n",
      "2020-02-20     0.0\n",
      "2020-02-21     0.0\n",
      "2020-02-22     0.0\n",
      "2020-02-23     0.0\n",
      "2020-02-24     0.0\n",
      "2020-02-25     0.0\n",
      "2020-02-26     0.0\n",
      "2020-02-27     0.0\n",
      "2020-02-28     0.0\n",
      "2020-02-29     0.0\n",
      "2020-03-01     0.0\n",
      "2020-03-02     1.0\n",
      "2020-03-03     0.0\n",
      "2020-03-04     0.0\n",
      "2020-03-05     3.0\n",
      "2020-03-06     7.0\n",
      "2020-03-07     0.0\n",
      "2020-03-08     1.0\n",
      "2020-03-09     7.0\n",
      "2020-03-10     6.0\n",
      "2020-03-11    30.0\n",
      "2020-03-12    40.0\n",
      "2020-03-13    59.0\n",
      "2020-03-14   115.0\n",
      "2020-03-15     0.0\n",
      "2020-03-16   194.0\n",
      "2020-03-17   351.0\n",
      "2020-03-18  1057.0\n",
      "2020-03-19  2083.0\n",
      "2020-03-20  1197.0\n",
      "2020-03-21  2379.0\n",
      "2020-03-22  2124.0\n",
      "2020-03-23  2651.0\n",
      "2020-03-24  2599.0\n",
      "2020-03-25  2952.0\n",
      "2020-03-26  4017.0\n",
      "2020-03-27  3700.0\n",
      "2020-03-28  4203.0\n",
      "2020-03-29  3992.0\n",
      "2020-03-30  3685.0\n",
      "2020-03-31  5666.0\n",
      "2020-04-01  4320.0\n",
      "2020-04-02  4370.0\n",
      "2020-04-03  5350.0\n",
      "2020-04-04  6147.0\n",
      "2020-04-05  4245.0\n",
      "2020-04-06  4630.0\n",
      "2020-04-07  4695.0\n",
      "2020-04-08  4927.0\n",
      "2020-04-09  5225.0\n",
      "2020-04-10  5356.0\n",
      "2020-04-11  5924.0\n",
      "2020-04-12  4900.0\n",
      "2020-04-13  3555.0\n",
      "2020-04-14  3702.0\n",
      "2020-04-15  7837.0\n",
      "2020-04-16  4844.0\n",
      "2020-04-17  4206.0\n",
      "2020-04-18  3982.0\n",
      "2020-04-19  2933.0\n",
      "2020-04-20  2324.0\n",
      "2020-04-21  2757.0\n",
      "2020-04-22  2879.0\n",
      "2020-04-23  3628.0\n",
      "2020-04-24  4618.0\n",
      "2020-04-25  4640.0\n",
      "2020-04-26  3145.0\n",
      "2020-04-27  2231.0\n",
      "2020-04-28  1849.0\n",
      "2020-04-29  2503.0\n",
      "2020-04-30  2637.0\n",
      "2020-05-01  2212.0\n",
      "2020-05-02  2664.0\n",
      "2020-05-03  1977.0\n",
      "2020-05-04  1320.0\n",
      "2020-05-05  1223.0\n",
      "2020-05-06  1477.0\n",
      "2020-05-07  1865.0\n",
      "2020-05-08  1567.0\n",
      "2020-05-09  1506.0\n",
      "2020-05-10  1128.0\n",
      "2020-05-11   940.0\n",
      "2020-05-12   766.0\n",
      "2020-05-13  1127.0\n",
      "2020-05-14  1295.0\n",
      "2020-05-15  1812.0\n",
      "2020-05-16  1243.0\n",
      "2020-05-17   993.0\n",
      "2020-05-18   637.0\n",
      "2020-05-19   591.0\n",
      "2020-05-20   729.0\n",
      "2020-05-21  1125.0\n",
      "2020-05-22   809.0\n",
      "2020-05-23   782.0\n",
      "2020-05-24   857.0\n",
      "2020-05-25   608.0\n",
      "2020-05-26   570.0\n",
      "2020-05-27   667.0\n",
      "2020-05-28  1083.0\n"
     ]
    }
   ],
   "source": [
    "with pd.option_context('display.max_rows', None, 'display.max_columns', None):\n",
    "    print(y)"
   ]
  },
  {
   "cell_type": "code",
   "execution_count": null,
   "metadata": {},
   "outputs": [],
   "source": []
  }
 ],
 "metadata": {
  "kernelspec": {
   "display_name": "Python 3",
   "language": "python",
   "name": "python3"
  },
  "language_info": {
   "codemirror_mode": {
    "name": "ipython",
    "version": 3
   },
   "file_extension": ".py",
   "mimetype": "text/x-python",
   "name": "python",
   "nbconvert_exporter": "python",
   "pygments_lexer": "ipython3",
   "version": "3.7.7"
  }
 },
 "nbformat": 4,
 "nbformat_minor": 4
}
