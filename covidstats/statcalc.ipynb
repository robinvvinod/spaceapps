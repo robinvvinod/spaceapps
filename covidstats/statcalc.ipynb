{
 "cells": [
  {
   "cell_type": "code",
   "execution_count": 45,
   "metadata": {},
   "outputs": [],
   "source": [
    "import pandas as pd\n",
    "from datetime import datetime"
   ]
  },
  {
   "cell_type": "code",
   "execution_count": 46,
   "metadata": {},
   "outputs": [],
   "source": [
    "df = pd.read_csv('raw/raw_confirmed_cases.csv')"
   ]
  },
  {
   "cell_type": "code",
   "execution_count": 47,
   "metadata": {},
   "outputs": [],
   "source": [
    "df = df.drop(['UID','iso2', 'iso3', 'code3','Admin2','Province_State','Country_Region','Lat','Long_', 'Combined_Key'], axis=1)"
   ]
  },
  {
   "cell_type": "code",
   "execution_count": 48,
   "metadata": {},
   "outputs": [],
   "source": [
    "columns = []\n",
    "for i,date in enumerate(df.columns):\n",
    "    if i == 0:\n",
    "        continue\n",
    "        \n",
    "    datetime_object = datetime.strptime(date, '%m/%d/%y')\n",
    "    date = datetime_object.strftime(\"%Y-%m-%d\")\n",
    "    columns.append(date)\n",
    "columns.insert(0,'fips')\n",
    "\n",
    "df.columns = columns"
   ]
  },
  {
   "cell_type": "code",
   "execution_count": 49,
   "metadata": {},
   "outputs": [],
   "source": [
    "df.to_csv('confirmed_cases_county_cumulative.csv')"
   ]
  },
  {
   "cell_type": "code",
   "execution_count": 50,
   "metadata": {},
   "outputs": [],
   "source": [
    "df = pd.read_csv('raw/raw_deaths.csv')\n",
    "df = df.drop(['UID','iso2', 'iso3', 'code3','Admin2','Province_State','Country_Region','Lat','Long_', 'Combined_Key', 'Population'], axis=1)"
   ]
  },
  {
   "cell_type": "code",
   "execution_count": 51,
   "metadata": {},
   "outputs": [],
   "source": [
    "columns = []\n",
    "for i,date in enumerate(df.columns):\n",
    "    if i == 0:\n",
    "        continue\n",
    "        \n",
    "    datetime_object = datetime.strptime(date, '%m/%d/%y')\n",
    "    date = datetime_object.strftime(\"%Y-%m-%d\")\n",
    "    columns.append(date)\n",
    "columns.insert(0,'fips')\n",
    "\n",
    "df.columns = columns"
   ]
  },
  {
   "cell_type": "code",
   "execution_count": 52,
   "metadata": {},
   "outputs": [],
   "source": [
    "df.to_csv('deaths_county_cumulative.csv')"
   ]
  },
  {
   "cell_type": "code",
   "execution_count": null,
   "metadata": {},
   "outputs": [],
   "source": []
  }
 ],
 "metadata": {
  "kernelspec": {
   "display_name": "Python 3",
   "language": "python",
   "name": "python3"
  },
  "language_info": {
   "codemirror_mode": {
    "name": "ipython",
    "version": 3
   },
   "file_extension": ".py",
   "mimetype": "text/x-python",
   "name": "python",
   "nbconvert_exporter": "python",
   "pygments_lexer": "ipython3",
   "version": "3.7.7"
  }
 },
 "nbformat": 4,
 "nbformat_minor": 4
}
